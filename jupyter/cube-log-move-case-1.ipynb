{
 "cells": [
  {
   "cell_type": "code",
   "execution_count": 38,
   "metadata": {},
   "outputs": [],
   "source": [
    "import pandas as pd\n",
    "import numpy as np\n",
    "np.set_printoptions(precision=10)\n",
    "np.set_printoptions(suppress=True)\n"
   ]
  },
  {
   "cell_type": "markdown",
   "metadata": {},
   "source": [
    "### State transition and emission matrices mined from Petri net model"
   ]
  },
  {
   "cell_type": "code",
   "execution_count": 41,
   "metadata": {},
   "outputs": [],
   "source": [
    "W_a = [\n",
    "    [0., 1., 0., 0., 0., 0., 0.],\n",
    "    [0., 0., 0., 0., 0., 0., 0.],\n",
    "    [0., 0., 0., 0., 0., 0., 0.],\n",
    "    [0., 0., 0., 0., 0., 0., 0.],\n",
    "    [0., 0., 0., 0., 0., 0., 0.],\n",
    "    [0., 0., 0., 0., 0., 0., 0.],\n",
    "    [0., 0., 0., 0., 0., 0., 0.]\n",
    "]\n",
    "\n",
    "W_b = [\n",
    "    [0., 0., 0., 0., 0., 0., 0.],\n",
    "    [0., 0., 1., 0., 0., 0., 0.],\n",
    "    [0., 0., 0., 0., 0., 0., 0.],\n",
    "    [0., 0., 0., 0., 1., 0., 0.],\n",
    "    [0., 0., 0., 0., 0., 0., 0.],\n",
    "    [0., 0., 0., 0., 0., 0., 0.],\n",
    "    [0., 0., 0., 0., 0., 0., 0.]\n",
    "]\n",
    "\n",
    "W_c = [\n",
    "    [0., 0., 0., 0., 0., 0., 0.],\n",
    "    [0., 0., 1., 0., 0., 0., 0.],\n",
    "    [0., 0., 0., 0., 0., 0., 0.],\n",
    "    [0., 0., 0., 0., 1., 0., 0.],\n",
    "    [0., 0., 0., 0., 0., 0., 0.],\n",
    "    [0., 0., 0., 0., 0., 0., 0.],\n",
    "    [0., 0., 0., 0., 0., 0., 0.]\n",
    "]\n",
    "\n",
    "W_d = [\n",
    "    [0., 0., 0., 0., 0., 0., 0.],\n",
    "    [0., 0., 0., 1., 0., 0., 0.],\n",
    "    [0., 0., 0., 0., 1., 0., 0.],\n",
    "    [0., 0., 0., 0., 0., 0., 0.],\n",
    "    [0., 0., 0., 0., 0., 0., 0.],\n",
    "    [0., 0., 0., 0., 0., 0., 0.],\n",
    "    [0., 0., 0., 0., 0., 0., 0.]\n",
    "]\n",
    "\n",
    "W_e = [\n",
    "    [0., 0., 0., 0., 0., 0., 0.],\n",
    "    [0., 0., 0., 0., 0., 0., 0.],\n",
    "    [0., 0., 0., 0., 0., 0., 0.],\n",
    "    [0., 0., 0., 0., 0., 0., 0.],\n",
    "    [0., 0., 0., 0., 0., 1., 0.],\n",
    "    [0., 0., 0., 0., 0., 0., 0.],\n",
    "    [0., 0., 0., 0., 0., 0., 0.]\n",
    "]\n",
    "\n",
    "W_f = [\n",
    "    [0., 0., 0., 0., 0., 0., 0.],\n",
    "    [0., 0., 0., 0., 0., 0., 0.],\n",
    "    [0., 0., 0., 0., 0., 0., 0.],\n",
    "    [0., 0., 0., 0., 0., 0., 0.],\n",
    "    [0., 0., 0., 0., 0., 0., 0.],\n",
    "    [0., 1., 0., 0., 0., 0., 0.],\n",
    "    [0., 0., 0., 0., 0., 0., 0.]\n",
    "]\n",
    "\n",
    "W_g = [\n",
    "    [0., 0., 0., 0., 0., 0., 0.],\n",
    "    [0., 0., 0., 0., 0., 0., 0.],\n",
    "    [0., 0., 0., 0., 0., 0., 0.],\n",
    "    [0., 0., 0., 0., 0., 0., 0.],\n",
    "    [0., 0., 0., 0., 0., 0., 0.],\n",
    "    [0., 0., 0., 0., 0., 0., 1.],\n",
    "    [0., 0., 0., 0., 0., 0., 0.]\n",
    "]\n",
    "\n",
    "V = [\n",
    "    [1., 0., 0., 0., 0., 0., 0.],\n",
    "    [0., 1./3, 0., 0.5, 0., 0., 0.],\n",
    "    [0., 1./3, 0., 0.5, 0., 0., 0.],\n",
    "    [0., 1./3, 1.0, 0., 0., 0., 0.],\n",
    "    [0., 0., 0., 0., 1., 0., 0.],\n",
    "    [0., 0., 0., 0., 0., 0.5, 0.],\n",
    "    [0., 0., 0., 0., 0., 0.5, 0.]\n",
    "]\n",
    "\n",
    "C = [\n",
    "    [1., 0., 0., 0., 0., 0., 0.],\n",
    "    [0., 1., 0., 1., 0., 0., 0.],\n",
    "    [0., 1., 0., 1., 0., 0., 0.],\n",
    "    [0., 1., 1., 0., 0., 0., 0.],\n",
    "    [0., 0., 0., 0., 1., 0., 0.],\n",
    "    [0., 0., 0., 0., 0., 1., 0.],\n",
    "    [0., 0., 0., 0., 0., 1., 0.]\n",
    "]\n",
    "\n",
    "W = np.asarray([np.asarray(W_a), np.asarray(W_b), np.asarray(W_c), np.asarray(W_d), np.asarray(W_e), np.asarray(W_f), np.asarray(W_g)])\n",
    "\n",
    "V = np.asarray(V)\n",
    "C = np.asarray(C)\n",
    "\n",
    "# W and V matrices of deviating behavior\n",
    "W_d = np.ones(W.shape) * 0.01\n",
    "V_d = np.ones(V.shape) * 0.01"
   ]
  },
  {
   "cell_type": "markdown",
   "metadata": {},
   "source": [
    "### Non-fitting case: <a, b, c, c, c, c, c, d, e, g> (log move)"
   ]
  },
  {
   "cell_type": "markdown",
   "metadata": {},
   "source": [
    "#### Initial distribution $\\pi$"
   ]
  },
  {
   "cell_type": "code",
   "execution_count": 42,
   "metadata": {},
   "outputs": [],
   "source": [
    "init = [1., 0., 0., 0., 0., 0., 0.]\n",
    "init = np.reshape(init, [1, 7])"
   ]
  },
  {
   "cell_type": "markdown",
   "metadata": {},
   "source": [
    "#### At execution of < a >\n",
    "$\\alpha_j(1) = P(X_1 = a, Z_1 = j) = \\pi_j \\times v_j(a) = \\pi_j \\times [c(\\pi, 1_a) \\times V_{a, j} + (1 - c(\\pi, 1_a)) V^d_{a, j}]$\n",
    "\n"
   ]
  },
  {
   "cell_type": "code",
   "execution_count": 43,
   "metadata": {},
   "outputs": [
    {
     "name": "stdout",
     "output_type": "stream",
     "text": [
      "P(X_1 = <a>, Z_1 = z_1): [[ 1.  0.  0.  0.  0.  0.  0.]]\n",
      "Re-estimated conformance of execution \"a\": [ 1.]\n"
     ]
    }
   ],
   "source": [
    "c_1 = np.dot(init, C[0,:])\n",
    "alpha_1 = init * (c_1 * V[0,:])\n",
    "\n",
    "# re-estimate conformance\n",
    "c_1_reest = np.dot(alpha_1, C[0,:])\n",
    "\n",
    "print('P(X_1 = <a>, Z_1 = z_1): {}'.format(alpha_1))\n",
    "print('Re-estimated conformance of execution \"a\": {}'.format(c_1_reest))"
   ]
  },
  {
   "cell_type": "code",
   "execution_count": 44,
   "metadata": {},
   "outputs": [],
   "source": [
    "def conf(z, a):\n",
    "    \"\"\"\n",
    "    Computes conformance given a state estimation and observed activity.\n",
    "    \"\"\"\n",
    "    if (not np.isclose(z.sum(), [1.])):\n",
    "        raise ValueError('State z: {} does not sum to 1.'.format(z))\n",
    "    \n",
    "    ind = ord(a) - ord('a')    \n",
    "    return np.dot(z, C[ind,:]) \n",
    "\n",
    "\n",
    "def v(z, a_k):\n",
    "    \"\"\"\n",
    "    Computes P(x is a_k at time t | z at time t)\n",
    "    \n",
    "    z: state estimation at time t\n",
    "    a_k: the observed activity\n",
    "    \"\"\"\n",
    "    if (z.shape[1] != V.shape[1]):\n",
    "        raise ValueError('Invalid state length: {}'.format(z))\n",
    "    \n",
    "    w_z = np.sum(z)\n",
    "    weighted = z / w_z if w_z > 0 else z\n",
    "    c = conf(weighted, a_k) if w_z > 0 else 0 # need to check for state estimate being 0. to avoid division by zero\n",
    "    ind = ord(a_k) - ord('a')\n",
    "    print('Conformance between state and observation at time t before observation adjustment: {}'.format(c))\n",
    "    return c * V[ind,:] + (1 - c) * V_d[ind,:]\n",
    "    \n",
    "\n",
    "def w(z, a_k):\n",
    "    \"\"\"\n",
    "    Computes P(z at time t + 1 | z at time t, x is a_k at time t)\n",
    "    \"\"\"\n",
    "    if (z.shape[1] != W[0,:,:].shape[1]):\n",
    "        raise ValueError('Invalid state length: {}'.format(z))\n",
    "    \n",
    "    w_z = np.sum(z)\n",
    "    weighted = z / w_z if w_z > 0 else z\n",
    "    c = conf(weighted, a_k) if w_z > 0 else 0 # need to check for state estimate being 0. to avoid division by zero\n",
    "    # return c * W + (1 - c) * W_d\n",
    "\n",
    "    ind = ord(a_k) - ord('a')\n",
    "    # need to select the corresponding transition matrix according to the observed activity\n",
    "    return (c * W[ind,:,:] + (1 - c) * W_d[ind,:,:])\n",
    "\n",
    "    \n",
    "def alpha(a_t, a_t1=None, prev_alpha=None, init=None):\n",
    "    \"\"\"\n",
    "    a_t: activity executed at time t\n",
    "    a_t1: activity executed at time t - 1\n",
    "    prev_alpha: alpha from t - 1\n",
    "    \"\"\"\n",
    "    if prev_alpha is None:\n",
    "        # base case\n",
    "        return init * v(init, a_t)\n",
    "    \n",
    "    est_cur_state = (w(prev_alpha, a_t1).T * prev_alpha).sum(axis=1).reshape([1, W[0,:,:].shape[1]])\n",
    "    print('   State estimate of time t before observation at time t: {}'.format(est_cur_state))\n",
    "    print('W. State estimate of time t before observation at time t: {}'.format(est_cur_state / est_cur_state.sum()))\n",
    "\n",
    "    obs_likelihood = v(est_cur_state, a_t)\n",
    "    print('Likelihood of observation at states at time t: {}'.format(obs_likelihood))\n",
    "    return obs_likelihood * est_cur_state"
   ]
  },
  {
   "cell_type": "markdown",
   "metadata": {},
   "source": [
    "#### At execution of < a, b >\n",
    "$\\alpha_j(2) = P(X_{1:2} = <a, b>, Z_2 = j) = \\sum_{i \\in Z} v_j(b) w_{ij}(a) \\alpha_i(1)$\n"
   ]
  },
  {
   "cell_type": "code",
   "execution_count": 45,
   "metadata": {},
   "outputs": [
    {
     "name": "stdout",
     "output_type": "stream",
     "text": [
      "   State estimate of time t before observation at time t: [[ 0.  1.  0.  0.  0.  0.  0.]]\n",
      "W. State estimate of time t before observation at time t: [[ 0.  1.  0.  0.  0.  0.  0.]]\n",
      "Conformance between state and observation at time t before observation adjustment: [ 1.]\n",
      "Likelihood of observation at states at time t: [ 0.            0.3333333333  0.            0.5           0.            0.\n",
      "  0.          ]\n",
      "\n",
      "   P(X_1:2 = <a, b>, Z_2 = z_2): [[ 0.            0.3333333333  0.            0.            0.            0.\n",
      "   0.          ]]\n",
      "W. P(X_1:2 = <a, b>, Z_2 = z_2): [[ 0.  1.  0.  0.  0.  0.  0.]]\n",
      "Re-estimated conformance of execution \"b\": [ 1.]\n"
     ]
    }
   ],
   "source": [
    "this_act = 'b'\n",
    "prev_act = 'a'\n",
    "prev_alpha = alpha_1\n",
    "\n",
    "alpha_2 = alpha(this_act, prev_act, prev_alpha)\n",
    "\n",
    "w_alpha_2 = alpha_2.sum()\n",
    "weighted_alpha_2 = alpha_2 / w_alpha_2 if w_alpha_2 > 0 else alpha_2\n",
    "c_2_reest = conf(weighted_alpha_2, this_act) if w_alpha_2 > 0 else 0 # need to check for state estimate being 0. to avoid division by zero\n",
    "\n",
    "print('\\n   P(X_1:2 = <{}, {}>, Z_2 = z_2): {}'.format(prev_act, this_act, alpha_2))\n",
    "print('W. P(X_1:2 = <{}, {}>, Z_2 = z_2): {}'.format(prev_act, this_act, weighted_alpha_2))\n",
    "print('Re-estimated conformance of execution \"{}\": {}'.format(this_act, c_2_reest))"
   ]
  },
  {
   "cell_type": "markdown",
   "metadata": {},
   "source": [
    "#### At execution of < a, b, c >\n",
    "$\\alpha_j(3) = P(X_{1:3} = <a, b, c>, Z_3 = j) = \\sum_{i \\in Z} v_j(c) w_{ij}(b) \\alpha_i(2)$\n"
   ]
  },
  {
   "cell_type": "code",
   "execution_count": 46,
   "metadata": {},
   "outputs": [
    {
     "name": "stdout",
     "output_type": "stream",
     "text": [
      "   State estimate of time t before observation at time t: [[ 0.            0.            0.3333333333  0.            0.            0.\n",
      "   0.          ]]\n",
      "W. State estimate of time t before observation at time t: [[ 0.  0.  1.  0.  0.  0.  0.]]\n",
      "Conformance between state and observation at time t before observation adjustment: [ 0.]\n",
      "Likelihood of observation at states at time t: [ 0.01  0.01  0.01  0.01  0.01  0.01  0.01]\n",
      "\n",
      "   P(X_1:3 = <a, b, c>, Z_3 = z_3): [[ 0.            0.            0.0033333333  0.            0.            0.\n",
      "   0.          ]]\n",
      "W. P(X_1:3 = <a, b, c>, Z_3 = z_3): [[ 0.  0.  1.  0.  0.  0.  0.]]\n",
      "Re-estimated conformance of execution \"c\": [ 0.]\n"
     ]
    }
   ],
   "source": [
    "this_act = 'c'\n",
    "prev_act = 'b'\n",
    "prev_alpha = alpha_2\n",
    "\n",
    "alpha_3 = alpha(this_act, prev_act, prev_alpha)\n",
    "\n",
    "w_alpha_3 = alpha_3.sum()\n",
    "weighted_alpha_3 = alpha_3 / alpha_3.sum() if w_alpha_3 > 0 else alpha_3\n",
    "c_3_reest = conf(weighted_alpha_3, this_act) if w_alpha_3 > 0 else 0\n",
    "\n",
    "print('\\n   P(X_1:3 = <a, {}, {}>, Z_3 = z_3): {}'.format(prev_act, this_act, alpha_3))\n",
    "print('W. P(X_1:3 = <a, {}, {}>, Z_3 = z_3): {}'.format(prev_act, this_act, weighted_alpha_3))\n",
    "print('Re-estimated conformance of execution \"{}\": {}'.format(this_act, c_3_reest))"
   ]
  },
  {
   "cell_type": "markdown",
   "metadata": {},
   "source": [
    "#### At execution of < a, b, c, c >\n",
    "$\\alpha_j(4) = P(X_{1:4} = <a, b, c, c>, Z_4 = j) = \\sum_{i \\in Z} v_j(c) w_{ij}(c) \\alpha_i(3)$\n"
   ]
  },
  {
   "cell_type": "code",
   "execution_count": 47,
   "metadata": {},
   "outputs": [
    {
     "name": "stdout",
     "output_type": "stream",
     "text": [
      "   State estimate of time t before observation at time t: [[ 0.0000333333  0.0000333333  0.0000333333  0.0000333333  0.0000333333\n",
      "   0.0000333333  0.0000333333]]\n",
      "W. State estimate of time t before observation at time t: [[ 0.1428571429  0.1428571429  0.1428571429  0.1428571429  0.1428571429\n",
      "   0.1428571429  0.1428571429]]\n",
      "Conformance between state and observation at time t before observation adjustment: [ 0.2857142857]\n",
      "Likelihood of observation at states at time t: [ 0.0071428571  0.1023809524  0.0071428571  0.15          0.0071428571\n",
      "  0.0071428571  0.0071428571]\n",
      "\n",
      "   P(X_1:4 = <a, b, c, c>, Z_4 = z_4): [[ 0.0000002381  0.0000034127  0.0000002381  0.000005      0.0000002381\n",
      "   0.0000002381  0.0000002381]]\n",
      "W. P(X_1:4 = <a, b, c, c>, Z_4 = z_4): [[ 0.0247933884  0.3553719008  0.0247933884  0.520661157   0.0247933884\n",
      "   0.0247933884  0.0247933884]]\n",
      "Re-estimated conformance of execution \"c\": [ 0.8760330579]\n"
     ]
    }
   ],
   "source": [
    "this_act = 'c'\n",
    "prev_act = 'c'\n",
    "prev_alpha = alpha_3\n",
    "\n",
    "alpha_4 = alpha(this_act, prev_act, prev_alpha)\n",
    "\n",
    "weighted_alpha_4 = alpha_4 / alpha_4.sum()\n",
    "c_4_reest = conf(weighted_alpha_4, this_act)\n",
    "\n",
    "print('\\n   P(X_1:4 = <a, b, {}, {}>, Z_4 = z_4): {}'.format(prev_act, this_act, alpha_4))\n",
    "print('W. P(X_1:4 = <a, b, {}, {}>, Z_4 = z_4): {}'.format(prev_act, this_act, weighted_alpha_4))\n",
    "print('Re-estimated conformance of execution \"{}\": {}'.format(this_act, c_4_reest))"
   ]
  },
  {
   "cell_type": "markdown",
   "metadata": {},
   "source": [
    "#### At execution of < a, b, c, c, c >\n",
    "$\\alpha_j(5) = P(X_{1:5} = <a, b, c, c, c>, Z_5 = j) = \\sum_{i \\in Z} v_j(c) w_{ij}(c) \\alpha_i(4)$\n"
   ]
  },
  {
   "cell_type": "code",
   "execution_count": 48,
   "metadata": {},
   "outputs": [
    {
     "name": "stdout",
     "output_type": "stream",
     "text": [
      "   State estimate of time t before observation at time t: [[ 0.0000000119  0.0000000119  0.0000030015  0.0000000119  0.0000043921\n",
      "   0.0000000119  0.0000000119]]\n",
      "W. State estimate of time t before observation at time t: [[ 0.0015972824  0.0015972824  0.4027219805  0.0015972824  0.5892916074\n",
      "   0.0015972824  0.0015972824]]\n",
      "Conformance between state and observation at time t before observation adjustment: [ 0.0031945648]\n",
      "Likelihood of observation at states at time t: [ 0.0099680544  0.0110329093  0.0099680544  0.0115653368  0.0099680544\n",
      "  0.0099680544  0.0099680544]\n",
      "\n",
      "   P(X_1:5 = <a, b, c, c, c>, Z_5 = z_5): [[ 0.0000000001  0.0000000001  0.0000000299  0.0000000001  0.0000000438\n",
      "   0.0000000001  0.0000000001]]\n",
      "W. P(X_1:5 = <a, b, c, c, c>, Z_5 = z_5): [[ 0.0015966013  0.0017671611  0.4025502601  0.001852441   0.5890403339\n",
      "   0.0015966013  0.0015966013]]\n",
      "Re-estimated conformance of execution \"c\": [ 0.003619602]\n"
     ]
    }
   ],
   "source": [
    "this_act = 'c'\n",
    "prev_act = 'c'\n",
    "prev_alpha = alpha_4\n",
    "\n",
    "alpha_5 = alpha(this_act, prev_act, prev_alpha)\n",
    "\n",
    "weighted_alpha_5 = alpha_5 / alpha_5.sum()\n",
    "c_5_reest = conf(weighted_alpha_5, this_act)\n",
    "\n",
    "print('\\n   P(X_1:5 = <a, b, c, {}, {}>, Z_5 = z_5): {}'.format(prev_act, this_act, alpha_5))\n",
    "print('W. P(X_1:5 = <a, b, c, {}, {}>, Z_5 = z_5): {}'.format(prev_act, this_act, weighted_alpha_5))\n",
    "print('Re-estimated conformance of execution \"{}\": {}'.format(this_act, c_5_reest))"
   ]
  },
  {
   "cell_type": "markdown",
   "metadata": {},
   "source": [
    "#### At execution of < a, b, c, c, c, c >\n",
    "$\\alpha_j(6) = P(X_{1:6} = <a, b, c, c, c, c>, Z_6 = j) = \\sum_{i \\in Z} v_j(c) w_{ij}(c) \\alpha_i(5)$\n"
   ]
  },
  {
   "cell_type": "code",
   "execution_count": 49,
   "metadata": {},
   "outputs": [
    {
     "name": "stdout",
     "output_type": "stream",
     "text": [
      "   State estimate of time t before observation at time t: [[ 0.0000000007  0.0000000007  0.0000000007  0.0000000007  0.0000000007\n",
      "   0.0000000007  0.0000000007]]\n",
      "W. State estimate of time t before observation at time t: [[ 0.142830313   0.142830313   0.1429220051  0.142830313   0.14292643\n",
      "   0.142830313   0.142830313 ]]\n",
      "Conformance between state and observation at time t before observation adjustment: [ 0.2856606259]\n",
      "Likelihood of observation at states at time t: [ 0.0071433937  0.1023636024  0.0071433937  0.1499737067  0.0071433937\n",
      "  0.0071433937  0.0071433937]\n",
      "\n",
      "   P(X_1:6 = <a, b, c, c, c, c>, Z_6 = z_6): [[ 0.            0.0000000001  0.            0.0000000001  0.            0.\n",
      "   0.          ]]\n",
      "W. P(X_1:6 = <a, b, c, c, c, c>, Z_6 = z_6): [[ 0.0247979682  0.3553506144  0.0248138876  0.5206269375  0.0248146559\n",
      "   0.0247979682  0.0247979682]]\n",
      "Re-estimated conformance of execution \"c\": [ 0.875977552]\n"
     ]
    }
   ],
   "source": [
    "this_act = 'c'\n",
    "prev_act = 'c'\n",
    "prev_alpha = alpha_5\n",
    "\n",
    "alpha_6 = alpha(this_act, prev_act, prev_alpha)\n",
    "\n",
    "w_alpha_6 = alpha_6.sum()\n",
    "weighted_alpha_6 = alpha_6 / w_alpha_6 if w_alpha_6 > 0 else alpha_6\n",
    "c_6_reest = conf(weighted_alpha_6, this_act) if w_alpha_6 > 0 else 0\n",
    "\n",
    "print('\\n   P(X_1:6 = <a, b, c, c, {}, {}>, Z_6 = z_6): {}'.format(prev_act, this_act, alpha_6))\n",
    "print('W. P(X_1:6 = <a, b, c, c, {}, {}>, Z_6 = z_6): {}'.format(prev_act, this_act, weighted_alpha_6))\n",
    "print('Re-estimated conformance of execution \"{}\": {}'.format(this_act, c_6_reest))"
   ]
  },
  {
   "cell_type": "markdown",
   "metadata": {},
   "source": [
    "#### At execution of < a, b, c, c, c, c, d >\n",
    "$\\alpha_j(7) = P(X_{1:7} = <a, b, c, c, c, c, d>, Z_7 = j) = \\sum_{i \\in Z} v_j(d) w_{ij}(c) \\alpha_i(6)$\n"
   ]
  },
  {
   "cell_type": "code",
   "execution_count": 50,
   "metadata": {},
   "outputs": [
    {
     "name": "stdout",
     "output_type": "stream",
     "text": [
      "   State estimate of time t before observation at time t: [[ 0.            0.            0.0000000001  0.            0.0000000001  0.\n",
      "   0.          ]]\n",
      "W. State estimate of time t before observation at time t: [[ 0.0015981899  0.0015981899  0.4027216997  0.0015981899  0.589287351\n",
      "   0.0015981899  0.0015981899]]\n",
      "Conformance between state and observation at time t before observation adjustment: [ 0.4043198896]\n",
      "Likelihood of observation at states at time t: [ 0.0059568011  0.1407300976  0.4102766907  0.0059568011  0.0059568011\n",
      "  0.0059568011  0.0059568011]\n",
      "\n",
      "   P(X_1:7 = <a, b, c, c, c, c, d>, Z_7 = z_7): [[ 0.  0.  0.  0.  0.  0.  0.]]\n",
      "W. P(X_1:7 = <a, b, c, c, c, c, d>, Z_7 = z_7): [[ 0.0000563318  0.001330844   0.9776730874  0.0000563318  0.0207707417\n",
      "   0.0000563318  0.0000563318]]\n",
      "Re-estimated conformance of execution \"d\": [ 0.9790039313]\n"
     ]
    }
   ],
   "source": [
    "this_act = 'd'\n",
    "prev_act = 'c'\n",
    "prev_alpha = alpha_6\n",
    "\n",
    "alpha_7 = alpha(this_act, prev_act, prev_alpha)\n",
    "\n",
    "w_alpha_7 = alpha_7.sum()\n",
    "weighted_alpha_7 = alpha_7 / w_alpha_7 if w_alpha_7 > 0 else alpha_7\n",
    "c_7_reest = conf(weighted_alpha_7, this_act) if w_alpha_7 > 0 else 0\n",
    "\n",
    "print('\\n   P(X_1:7 = <a, b, c, c, c, {}, {}>, Z_7 = z_7): {}'.format(prev_act, this_act, alpha_7))\n",
    "print('W. P(X_1:7 = <a, b, c, c, c, {}, {}>, Z_7 = z_7): {}'.format(prev_act, this_act, weighted_alpha_7))\n",
    "print('Re-estimated conformance of execution \"{}\": {}'.format(this_act, c_7_reest))"
   ]
  },
  {
   "cell_type": "markdown",
   "metadata": {},
   "source": [
    "#### At execution of < a, b, c, c, c, c, d, e>\n",
    "$\\alpha_j(8) = P(X_{1:8} = <a, b, c, c, c, c, d, e>, Z_8 = j) = \\sum_{i \\in Z} v_j(e) w_{ij}(d) \\alpha_i(7)$\n"
   ]
  },
  {
   "cell_type": "code",
   "execution_count": 51,
   "metadata": {},
   "outputs": [
    {
     "name": "stdout",
     "output_type": "stream",
     "text": [
      "   State estimate of time t before observation at time t: [[ 0.  0.  0.  0.  0.  0.  0.]]\n",
      "W. State estimate of time t before observation at time t: [[ 0.0002187276  0.0002187276  0.0002187276  0.001576032   0.9973303298\n",
      "   0.0002187276  0.0002187276]]\n",
      "Conformance between state and observation at time t before observation adjustment: [ 0.9973303298]\n",
      "Likelihood of observation at states at time t: [ 0.0000266967  0.0000266967  0.0000266967  0.0000266967  0.9973570265\n",
      "  0.0000266967  0.0000266967]\n",
      "\n",
      "   P(X_1:8 = <a, b, c, c, c, c, d, e>, Z_8 = z_8): [[ 0.  0.  0.  0.  0.  0.  0.]]\n",
      "W. P(X_1:8 = <a, b, c, c, c, c, d, e>, Z_8 = z_8): [[ 0.0000000059  0.0000000059  0.0000000059  0.0000000423  0.9999999283\n",
      "   0.0000000059  0.0000000059]]\n",
      "Re-estimated conformance of execution \"e\": [ 0.9999999283]\n"
     ]
    }
   ],
   "source": [
    "this_act = 'e'\n",
    "prev_act = 'd'\n",
    "prev_alpha = alpha_7\n",
    "\n",
    "alpha_8 = alpha(this_act, prev_act, prev_alpha)\n",
    "\n",
    "w_alpha_8 = alpha_8.sum()\n",
    "weighted_alpha_8 = alpha_8 / w_alpha_8 if w_alpha_8 > 0 else alpha_8\n",
    "c_8_reest = conf(weighted_alpha_8, this_act) if w_alpha_8 > 0 else 0\n",
    "\n",
    "print('\\n   P(X_1:8 = <a, b, c, c, c, c, {}, {}>, Z_8 = z_8): {}'.format(prev_act, this_act, alpha_8))\n",
    "print('W. P(X_1:8 = <a, b, c, c, c, c, {}, {}>, Z_8 = z_8): {}'.format(prev_act, this_act, weighted_alpha_8))\n",
    "print('Re-estimated conformance of execution \"{}\": {}'.format(this_act, c_8_reest))"
   ]
  },
  {
   "cell_type": "markdown",
   "metadata": {},
   "source": [
    "#### At execution of < a, b, c, c, c, c, d, e, g>\n",
    "$\\alpha_j(9) = P(X_{1:9} = <a, b, c, c, c, c, d, e, g>, Z_9 = j) = \\sum_{i \\in Z} v_j(g) w_{ij}(e) \\alpha_i(8)$\n"
   ]
  },
  {
   "cell_type": "code",
   "execution_count": 52,
   "metadata": {},
   "outputs": [
    {
     "name": "stdout",
     "output_type": "stream",
     "text": [
      "   State estimate of time t before observation at time t: [[ 0.  0.  0.  0.  0.  0.  0.]]\n",
      "W. State estimate of time t before observation at time t: [[ 0.0000000007  0.0000000007  0.0000000007  0.0000000007  0.0000000007\n",
      "   0.9999999957  0.0000000007]]\n",
      "Conformance between state and observation at time t before observation adjustment: [ 0.9999999957]\n",
      "Likelihood of observation at states at time t: [ 0.            0.            0.            0.            0.            0.4999999979\n",
      "  0.          ]\n",
      "\n",
      "   P(X_1:9 = <a, b, c, c, c, c, d, e, g>, Z_9 = z_9): [[ 0.  0.  0.  0.  0.  0.  0.]]\n",
      "W. P(X_1:9 = <a, b, c, c, c, c, d, e, g>, Z_9 = z_9): [[ 0.  0.  0.  0.  0.  1.  0.]]\n",
      "Re-estimated conformance of execution \"g\": [ 1.]\n"
     ]
    }
   ],
   "source": [
    "this_act = 'g'\n",
    "prev_act = 'e'\n",
    "prev_alpha = alpha_8\n",
    "\n",
    "alpha_9 = alpha(this_act, prev_act, prev_alpha)\n",
    "\n",
    "w_alpha_9 = alpha_9.sum()\n",
    "weighted_alpha_9 = alpha_9 / w_alpha_9 if w_alpha_9 > 0 else alpha_9\n",
    "c_9_reest = conf(weighted_alpha_9, this_act) if w_alpha_9 > 0 else 0\n",
    "\n",
    "print('\\n   P(X_1:9 = <a, b, c, c, c, c, d, {}, {}>, Z_9 = z_9): {}'.format(prev_act, this_act, alpha_9))\n",
    "print('W. P(X_1:9 = <a, b, c, c, c, c, d, {}, {}>, Z_9 = z_9): {}'.format(prev_act, this_act, weighted_alpha_9))\n",
    "print('Re-estimated conformance of execution \"{}\": {}'.format(this_act, c_9_reest))"
   ]
  }
 ],
 "metadata": {
  "kernelspec": {
   "display_name": "Python 3",
   "language": "python",
   "name": "python3"
  },
  "language_info": {
   "codemirror_mode": {
    "name": "ipython",
    "version": 3
   },
   "file_extension": ".py",
   "mimetype": "text/x-python",
   "name": "python",
   "nbconvert_exporter": "python",
   "pygments_lexer": "ipython3",
   "version": "3.6.7"
  }
 },
 "nbformat": 4,
 "nbformat_minor": 2
}
