{
 "cells": [
  {
   "cell_type": "code",
   "execution_count": 512,
   "metadata": {},
   "outputs": [],
   "source": [
    "import pandas as pd\n",
    "import numpy as np\n",
    "np.set_printoptions(precision=5)\n",
    "np.set_printoptions(suppress=True)\n"
   ]
  },
  {
   "cell_type": "markdown",
   "metadata": {},
   "source": [
    "### State transition and emission matrices mined from Petri net model"
   ]
  },
  {
   "cell_type": "code",
   "execution_count": 520,
   "metadata": {},
   "outputs": [],
   "source": [
    "W = [\n",
    "    [0., 1., 0., 0., 0., 0., 0.],\n",
    "    [0., 0., 0.5, 0.5, 0., 0., 0.],\n",
    "    [0., 0., 0., 0., 1., 0., 0.],\n",
    "    [0., 0., 0., 0., 1., 0., 0.],\n",
    "    [0., 0., 0., 0., 0., 1., 0.],\n",
    "    [0., 0.5, 0., 0., 0., 0., 0.5],\n",
    "    [0., 0., 0., 0., 0., 0., 0.]\n",
    "]\n",
    "\n",
    "V = [\n",
    "    [1., 0., 0., 0., 0., 0., 0.],\n",
    "    [0., 1./3, 0., 0.5, 0., 0., 0.],\n",
    "    [0., 1./3, 0., 0.5, 0., 0., 0.],\n",
    "    [0., 1./3, 1.0, 0., 0., 0., 0.],\n",
    "    [0., 0., 0., 0., 1., 0., 0.],\n",
    "    [0., 0., 0., 0., 0., 0.5, 0.],\n",
    "    [0., 0., 0., 0., 0., 0.5, 0.]\n",
    "]\n",
    "\n",
    "C = [\n",
    "    [1., 0., 0., 0., 0., 0., 0.],\n",
    "    [0., 1., 0., 1., 0., 0., 0.],\n",
    "    [0., 1., 0., 1., 0., 0., 0.],\n",
    "    [0., 1., 1., 0., 0., 0., 0.],\n",
    "    [0., 0., 0., 0., 1., 0., 0.],\n",
    "    [0., 0., 0., 0., 0., 1., 0.],\n",
    "    [0., 0., 0., 0., 0., 1., 0.]\n",
    "]\n",
    "\n",
    "W = np.asarray(W)\n",
    "\n",
    "V = np.asarray(V)\n",
    "C = np.asarray(C)\n",
    "\n",
    "# W and V matrices of deviating behavior\n",
    "W_d = np.ones(W.shape) / W.shape[1] * 1.\n",
    "V_d = np.ones(V.shape) / V.shape[1] * 1."
   ]
  },
  {
   "cell_type": "markdown",
   "metadata": {},
   "source": [
    "### Perfectly fitting case: <a, b, d, e, g>"
   ]
  },
  {
   "cell_type": "markdown",
   "metadata": {},
   "source": [
    "#### Initial distribution $\\pi$"
   ]
  },
  {
   "cell_type": "code",
   "execution_count": 521,
   "metadata": {},
   "outputs": [],
   "source": [
    "init = [1., 0., 0., 0., 0., 0., 0.]\n",
    "init = np.reshape(init, [1, 7])"
   ]
  },
  {
   "cell_type": "markdown",
   "metadata": {},
   "source": [
    "#### At execution of < a >\n",
    "$\\alpha_j(1) = P(X_1 = a, Z_1 = j) = \\pi_j \\times v_j(a) = \\pi_j \\times [c(\\pi, 1_a) \\times V_{a, j} + (1 - c(\\pi, 1_a)) V^d_{a, j}]$\n",
    "\n"
   ]
  },
  {
   "cell_type": "code",
   "execution_count": 523,
   "metadata": {},
   "outputs": [
    {
     "name": "stdout",
     "output_type": "stream",
     "text": [
      "P(X_1 = <a>, Z_1 = z_1): [[ 1.  0.  0.  0.  0.  0.  0.]]\n",
      "Re-estimated conformance of execution \"a\": [ 1.]\n"
     ]
    }
   ],
   "source": [
    "c_1 = np.dot(init, C[0,:])\n",
    "alpha_1 = init * (c_1 * V[0,:])\n",
    "\n",
    "# re-estimate conformance\n",
    "c_1_reest = np.dot(alpha_1, C[0,:])\n",
    "\n",
    "print('P(X_1 = <a>, Z_1 = z_1): {}'.format(alpha_1))\n",
    "print('Re-estimated conformance of execution \"a\": {}'.format(c_1_reest))"
   ]
  },
  {
   "cell_type": "code",
   "execution_count": 525,
   "metadata": {},
   "outputs": [],
   "source": [
    "def conf(z, a):\n",
    "    \"\"\"\n",
    "    Computes conformance given a state estimation and observed activity.\n",
    "    \"\"\"\n",
    "    if (not np.isclose(z.sum(), [1.])):\n",
    "        raise ValueError('State z: {} does not sum to 1: {}.'.format(z, z.sum()))\n",
    "    \n",
    "    ind = ord(a) - ord('a')    \n",
    "    return np.dot(z, C[ind,:])\n",
    "\n",
    "\n",
    "def v(z, a_k):\n",
    "    \"\"\"\n",
    "    Computes P(x is a_k at time t | z at time t)\n",
    "    \n",
    "    z: state estimation at time t\n",
    "    a_k: the observed activity\n",
    "    \"\"\"\n",
    "    if (z.shape[1] != V.shape[1]):\n",
    "        raise ValueError('Invalid state length: {}'.format(z))\n",
    "    \n",
    "    w_z = z.sum()\n",
    "    weighted = z / w_z if w_z > 0 else z\n",
    "    c = conf(weighted, a_k) if w_z > 0 else 0 # need to check for state estimate being 0. to avoid division by zero\n",
    "    ind = ord(a_k) - ord('a')\n",
    "    print('Conformance between state and observation at time t before observation adjustment: {}'.format(c))\n",
    "    return c * V[ind,:] + (1 - c) * V_d[ind,:]\n",
    "    \n",
    "\n",
    "def w(z, a_k):\n",
    "    \"\"\"\n",
    "    Computes P(z at time t + 1 | z at time t, x is a_k at time t)\n",
    "    \"\"\"\n",
    "    if (z.shape[1] != W.shape[1]):\n",
    "        raise ValueError('Invalid state length: {}'.format(z))\n",
    "    \n",
    "    w_z = np.sum(z)\n",
    "    weighted = z / w_z if w_z > 0 else z\n",
    "    c = conf(weighted, a_k) if w_z > 0 else 0 # need to check for state estimate being 0. to avoid division by zero\n",
    "    return c * W + (1 - c) * W_d\n",
    "\n",
    "    \n",
    "def alpha(a_t, a_t1=None, prev_alpha=None, init=None):\n",
    "    \"\"\"\n",
    "    a_t: activity executed at time t\n",
    "    a_t1: activity executed at time t - 1\n",
    "    prev_alpha: alpha from t - 1\n",
    "    \"\"\"\n",
    "    if prev_alpha is None:\n",
    "        # base case\n",
    "        return init * v(init, a_t)\n",
    "    \n",
    "    est_cur_state = (w(prev_alpha, a_t1).T * prev_alpha).sum(axis=1).reshape([1, W.shape[1]])\n",
    "    print('State estimate of time t before observation at time t: {}'.format(est_cur_state))\n",
    "    print('Weighted state estimate of time t before observation at time t: {}'.format(est_cur_state / est_cur_state.sum()))\n",
    "    \n",
    "    obs_likelihood = v(est_cur_state, a_t)\n",
    "    print('Likelihood of observation at states at time t: {}'.format(obs_likelihood))\n",
    "    return obs_likelihood * est_cur_state"
   ]
  },
  {
   "cell_type": "markdown",
   "metadata": {},
   "source": [
    "#### At execution of < a, b >\n",
    "$\\alpha_j(2) = P(X_{1:2} = <a, b>, Z_2 = j) = \\sum_{i \\in Z} v_j(b) w_{ij}(a) \\alpha_i(1)$\n"
   ]
  },
  {
   "cell_type": "code",
   "execution_count": 527,
   "metadata": {},
   "outputs": [
    {
     "name": "stdout",
     "output_type": "stream",
     "text": [
      "State estimate of time t before observation at time t: [[ 0.  1.  0.  0.  0.  0.  0.]]\n",
      "Weighted state estimate of time t before observation at time t: [[ 0.  1.  0.  0.  0.  0.  0.]]\n",
      "Conformance between state and observation at time t before observation adjustment: [ 1.]\n",
      "Likelihood of observation at states at time t: [ 0.       0.33333  0.       0.5      0.       0.       0.     ]\n",
      "\n",
      "P(X_1:2 = <a, b>, Z_2 = z_2): [[ 0.       0.33333  0.       0.       0.       0.       0.     ]]\n",
      "Weighted P(X_1:2 = <a, b>, Z_2 = z_2): [[ 0.  1.  0.  0.  0.  0.  0.]]\n",
      "Re-estimated conformance of execution \"b\": [ 1.]\n"
     ]
    }
   ],
   "source": [
    "this_act = 'b'\n",
    "prev_act = 'a'\n",
    "prev_alpha = alpha_1\n",
    "\n",
    "alpha_2 = alpha(this_act, prev_act, prev_alpha)\n",
    "\n",
    "w_alpha_2 = alpha_2.sum()\n",
    "weighted_alpha_2 = alpha_2 / w_alpha_2 if w_alpha_2 > 0 else alpha_2\n",
    "c_2_reest = conf(weighted_alpha_2, this_act) if w_alpha_2 > 0 else 0 # need to check for state estimate being 0. to avoid division by zero\n",
    "\n",
    "print('\\nP(X_1:2 = <{}, {}>, Z_2 = z_2): {}'.format(prev_act, this_act, alpha_2))\n",
    "print('Weighted P(X_1:2 = <{}, {}>, Z_2 = z_2): {}'.format(prev_act, this_act, weighted_alpha_2))\n",
    "print('Re-estimated conformance of execution \"{}\": {}'.format(this_act, c_2_reest))"
   ]
  },
  {
   "cell_type": "markdown",
   "metadata": {},
   "source": [
    "#### At execution of < a, b, d >\n",
    "$\\alpha_j(3) = P(X_{1:3} = <a, b, d>, Z_3 = j) = \\sum_{i \\in Z} v_j(d) w_{ij}(b) \\alpha_i(2)$\n"
   ]
  },
  {
   "cell_type": "code",
   "execution_count": 531,
   "metadata": {},
   "outputs": [
    {
     "name": "stdout",
     "output_type": "stream",
     "text": [
      "State estimate of time t before observation at time t: [[ 0.       0.       0.16667  0.16667  0.       0.       0.     ]]\n",
      "Weighted state estimate of time t before observation at time t: [[ 0.   0.   0.5  0.5  0.   0.   0. ]]\n",
      "Conformance between state and observation at time t before observation adjustment: [ 0.5]\n",
      "Likelihood of observation at states at time t: [ 0.07143  0.2381   0.57143  0.07143  0.07143  0.07143  0.07143]\n",
      "\n",
      "P(X_1:3 = <a, b, d>, Z_3 = z_3): [[ 0.       0.       0.09524  0.0119   0.       0.       0.     ]]\n",
      "Weighted P(X_1:3 = <a, b, d>, Z_3 = z_3): [[ 0.       0.       0.88889  0.11111  0.       0.       0.     ]]\n",
      "Re-estimated conformance of execution \"d\": [ 0.88889]\n"
     ]
    }
   ],
   "source": [
    "this_act = 'd'\n",
    "prev_act = 'b'\n",
    "prev_alpha = alpha_2\n",
    "\n",
    "alpha_3 = alpha(this_act, prev_act, prev_alpha)\n",
    "\n",
    "w_alpha_3 = alpha_3.sum()\n",
    "weighted_alpha_3 = alpha_3 / w_alpha_3 if w_alpha_3 > 0 else alpha_3\n",
    "c_3_reest = conf(weighted_alpha_3, this_act) if w_alpha_3 > 0 else 0\n",
    "\n",
    "print('\\nP(X_1:3 = <a, {}, {}>, Z_3 = z_3): {}'.format(prev_act, this_act, alpha_3))\n",
    "print('Weighted P(X_1:3 = <a, {}, {}>, Z_3 = z_3): {}'.format(prev_act, this_act, weighted_alpha_3))\n",
    "print('Re-estimated conformance of execution \"{}\": {}'.format(this_act, c_3_reest))"
   ]
  },
  {
   "cell_type": "markdown",
   "metadata": {},
   "source": [
    "#### At execution of < a, b, d, e >\n",
    "$\\alpha_j(4) = P(X_{1:4} = <a, b, d, e>, Z_4 = j) = \\sum_{i \\in Z} v_j(e) w_{ij}(d) \\alpha_i(3)$\n"
   ]
  },
  {
   "cell_type": "code",
   "execution_count": 534,
   "metadata": {},
   "outputs": [
    {
     "name": "stdout",
     "output_type": "stream",
     "text": [
      "State estimate of time t before observation at time t: [[ 0.0017   0.0017   0.0017   0.0017   0.09694  0.0017   0.0017 ]]\n",
      "Weighted state estimate of time t before observation at time t: [[ 0.01587  0.01587  0.01587  0.01587  0.90476  0.01587  0.01587]]\n",
      "Conformance between state and observation at time t before observation adjustment: [ 0.90476]\n",
      "Likelihood of observation at states at time t: [ 0.01361  0.01361  0.01361  0.01361  0.91837  0.01361  0.01361]\n",
      "\n",
      "P(X_1:4 = <a, b, d, e>, Z_4 = z_4): [[ 0.00002  0.00002  0.00002  0.00002  0.08903  0.00002  0.00002]]\n",
      "Weighted P(X_1:4 = <a, b, d, e>, Z_4 = z_4): [[ 0.00026  0.00026  0.00026  0.00026  0.99844  0.00026  0.00026]]\n",
      "Re-estimated conformance of execution \"e\": [ 0.99844]\n"
     ]
    }
   ],
   "source": [
    "this_act = 'e'\n",
    "prev_act = 'd'\n",
    "prev_alpha = alpha_3\n",
    "\n",
    "alpha_4 = alpha(this_act, prev_act, prev_alpha)\n",
    "\n",
    "w_alpha_4 = alpha_4.sum()\n",
    "weighted_alpha_4 = alpha_4 / w_alpha_4 if w_alpha_4 > 0 else alpha_4\n",
    "c_4_reest = conf(weighted_alpha_4, this_act) if w_alpha_4 > 0 else 0\n",
    "\n",
    "print('\\nP(X_1:4 = <a, b, {}, {}>, Z_4 = z_4): {}'.format(prev_act, this_act, alpha_4))\n",
    "print('Weighted P(X_1:4 = <a, b, {}, {}>, Z_4 = z_4): {}'.format(prev_act, this_act, weighted_alpha_4))\n",
    "print('Re-estimated conformance of execution \"{}\": {}'.format(this_act, c_4_reest))"
   ]
  },
  {
   "cell_type": "markdown",
   "metadata": {},
   "source": [
    "#### At execution of < a, b, d, e, g >\n",
    "$\\alpha_j(5) = P(X_{1:5} = <a, b, d, e, g>, Z_4 = j) = \\sum_{i \\in Z} v_j(g) w_{ij}(e) \\alpha_i(4)$\n"
   ]
  },
  {
   "cell_type": "code",
   "execution_count": 535,
   "metadata": {},
   "outputs": [
    {
     "name": "stdout",
     "output_type": "stream",
     "text": [
      "State estimate of time t before observation at time t: [[ 0.00002  0.00005  0.00003  0.00003  0.00007  0.08891  0.00003]]\n",
      "Weighted state estimate of time t before observation at time t: [[ 0.00022  0.00061  0.00035  0.00035  0.00074  0.99737  0.00035]]\n",
      "Conformance between state and observation at time t before observation adjustment: [ 0.99737]\n",
      "Likelihood of observation at states at time t: [ 0.00038  0.00038  0.00038  0.00038  0.00038  0.49906  0.00038]\n",
      "\n",
      "P(X_1:5 = <a, b, d, e, g>, Z_5 = z_5): [[ 0.       0.       0.       0.       0.       0.04437  0.     ]]\n",
      "Weighted P(X_1:5 = <a, b, d, e, g>, Z_5 = z_5): [[ 0.  0.  0.  0.  0.  1.  0.]]\n",
      "Re-estimated conformance of execution \"g\": [ 1.]\n"
     ]
    }
   ],
   "source": [
    "this_act = 'g'\n",
    "prev_act = 'e'\n",
    "prev_alpha = alpha_4\n",
    "\n",
    "alpha_5 = alpha(this_act, prev_act, prev_alpha)\n",
    "\n",
    "w_alpha_5 = alpha_5.sum()\n",
    "weighted_alpha_5 = alpha_5 / w_alpha_5 if w_alpha_5 > 0 else alpha_5\n",
    "c_5_reest = conf(weighted_alpha_5, this_act) if w_alpha_5 > 0 else 0\n",
    "\n",
    "print('\\nP(X_1:5 = <a, b, d, {}, {}>, Z_5 = z_5): {}'.format(prev_act, this_act, alpha_5))\n",
    "print('Weighted P(X_1:5 = <a, b, d, {}, {}>, Z_5 = z_5): {}'.format(prev_act, this_act, weighted_alpha_5))\n",
    "print('Re-estimated conformance of execution \"{}\": {}'.format(this_act, c_5_reest))"
   ]
  },
  {
   "cell_type": "code",
   "execution_count": null,
   "metadata": {},
   "outputs": [],
   "source": []
  },
  {
   "cell_type": "code",
   "execution_count": null,
   "metadata": {},
   "outputs": [],
   "source": []
  }
 ],
 "metadata": {
  "kernelspec": {
   "display_name": "Python 3",
   "language": "python",
   "name": "python3"
  },
  "language_info": {
   "codemirror_mode": {
    "name": "ipython",
    "version": 3
   },
   "file_extension": ".py",
   "mimetype": "text/x-python",
   "name": "python",
   "nbconvert_exporter": "python",
   "pygments_lexer": "ipython3",
   "version": "3.6.7"
  }
 },
 "nbformat": 4,
 "nbformat_minor": 2
}
