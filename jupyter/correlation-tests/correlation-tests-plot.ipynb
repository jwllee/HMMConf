{
 "cells": [
  {
   "cell_type": "code",
   "execution_count": 1,
   "metadata": {},
   "outputs": [],
   "source": [
    "from scipy import stats\n",
    "import pandas as pd\n",
    "import numpy as np\n",
    "import os, sys\n",
    "import matplotlib.pyplot as plt\n",
    "import seaborn as sns"
   ]
  },
  {
   "cell_type": "code",
   "execution_count": 2,
   "metadata": {},
   "outputs": [],
   "source": [
    "RESULT_DIR = '../../results/correlation-tests/'\n",
    "PREFIX_DIR = os.path.join(RESULT_DIR, 'prefix-alignment', 'processed')\n",
    "\n",
    "hmm_dirname = os.listdir(os.path.join(RESULT_DIR, 'hmmconf'))[0]\n",
    "HMMCONF_DIR = os.path.join(RESULT_DIR, 'hmmconf')\n",
    "PATT_DIR = os.path.join(RESULT_DIR, 'pattern')"
   ]
  },
  {
   "cell_type": "code",
   "execution_count": 3,
   "metadata": {},
   "outputs": [],
   "source": [
    "def join_dfs(store, k=5, type_='test'):\n",
    "    dfs = list()\n",
    "    to_keep = [\n",
    "        'case_prefix',\n",
    "        'caseid',\n",
    "        'completeness',\n",
    "        'finalconf',\n",
    "        'injected_distance',\n",
    "    ]\n",
    "    df_name = '{}_hmmconf_feature_fold_{}_df'\n",
    "    for i in range(k):\n",
    "        df_name_i = df_name.format(type_, i)\n",
    "        # print('Adding {}'.format(df_name_i))\n",
    "        df_i = store[df_name_i]\n",
    "        df_i = df_i[to_keep]\n",
    "        df_i['fold_no'] = i \n",
    "        dfs.append(df_i)\n",
    "    df = pd.concat(dfs)\n",
    "    df = df.reset_index(drop=True)\n",
    "    del dfs\n",
    "    return df\n",
    "    \n",
    "    \n",
    "def process_hmmconf_df(df):\n",
    "    # add log and caseid\n",
    "    split = df['caseid'].str.split(':', n=1, expand=True)\n",
    "    df['log'] = split[0].str.replace('.csv', '')\n",
    "    df['caseid'] = split[1]\n",
    "    df['case_length'] = df['case_prefix'].str.split(';').apply(lambda r: len(r))\n",
    "    df['activity'] = df['case_prefix'].str.split(';').apply(lambda r: r[-1])\n",
    "    to_keep = [\n",
    "        'caseid',\n",
    "        'completeness',\n",
    "        'finalconf',\n",
    "        'net',\n",
    "        'log',\n",
    "        'case_length',\n",
    "        'injected_distance',\n",
    "        'activity',\n",
    "        'fold_no'\n",
    "    ]\n",
    "    return df[to_keep]\n",
    "\n",
    "def process_hmmconf_result_dir(result_dir):\n",
    "    test_df_list = list()\n",
    "    \n",
    "    for net in os.listdir(result_dir):\n",
    "        print('Processing {}'.format(net))\n",
    "        net_result_dir = os.path.join(result_dir, net)\n",
    "        store_fp = os.path.join(net_result_dir, 'results_store.h5')\n",
    "        store = pd.HDFStore(store_fp)\n",
    "        \n",
    "        test_df = join_dfs(store, k=5, type_='test')\n",
    "        # train_df = join_dfs(store, k=5, type_='train')\n",
    "        test_df['net'] = net\n",
    "        # train_df['net'] = net\n",
    "        test_df = process_hmmconf_df(test_df)\n",
    "        test_df_list.append(test_df)\n",
    "        # train_df_list.append(train_df)\n",
    "        store.close()\n",
    "    \n",
    "    # train_df = pd.concat(train_df_list).reset_index(drop=True)\n",
    "    test_df = pd.concat(test_df_list).reset_index(drop=True)\n",
    "    # test_df = process_hmmconf_df(test_df)\n",
    "    # train_df = process_hmmconf_df(train_df)\n",
    "    print('Finished processing {}'.format(result_dir))\n",
    "    return test_df"
   ]
  },
  {
   "cell_type": "code",
   "execution_count": 5,
   "metadata": {},
   "outputs": [
    {
     "name": "stdout",
     "output_type": "stream",
     "text": [
      "Processing model_triangular_10_20_30_id_49\n",
      "Processing model_triangular_10_20_30_id_50\n",
      "Processing model_triangular_10_20_30_id_8\n",
      "Processing model_triangular_10_20_30_id_26\n",
      "Processing model_triangular_10_20_30_id_32\n",
      "Processing model_triangular_10_20_30_id_12\n",
      "Processing model_triangular_10_20_30_id_14\n",
      "Processing model_triangular_10_20_30_id_43\n",
      "Processing model_triangular_10_20_30_id_19\n",
      "Processing model_triangular_10_20_30_id_39\n",
      "Processing model_triangular_10_20_30_id_15\n",
      "Processing model_triangular_10_20_30_id_27\n",
      "Finished processing ../../results/correlation-tests/hmmconf\n"
     ]
    }
   ],
   "source": [
    "hmm_test_df = process_hmmconf_result_dir(HMMCONF_DIR)"
   ]
  },
  {
   "cell_type": "code",
   "execution_count": 6,
   "metadata": {},
   "outputs": [],
   "source": [
    "prefix_df_list = []\n",
    "\n",
    "for fname in os.listdir(PREFIX_DIR):\n",
    "    if not fname.endswith('.csv'):\n",
    "        continue\n",
    "    fp = os.path.join(PREFIX_DIR, fname)\n",
    "    df = pd.read_csv(fp)\n",
    "    prefix_df_list.append(df)\n",
    "    \n",
    "prefix_df = pd.concat(prefix_df_list)\n",
    "\n",
    "patt_df_list = []\n",
    "\n",
    "for fname in os.listdir(PATT_DIR):\n",
    "    if not fname.endswith('.csv'):\n",
    "        continue\n",
    "    fp = os.path.join(PATT_DIR, fname)\n",
    "    df = pd.read_csv(fp, sep='\\t')\n",
    "    df['log'] = fname.replace('.csv', '')\n",
    "    patt_df_list.append(df)\n",
    "\n",
    "patt_df = pd.concat(patt_df_list)\n",
    "patt_df.rename(columns={\n",
    "    'T:concept:name': 'caseid',\n",
    "    'E:concept:name': 'activity'\n",
    "}, inplace=True)\n",
    "\n",
    "# create case_length\n",
    "patt_df['tmp'] = 1\n",
    "patt_df['case_length'] = patt_df[['caseid', 'log', 'tmp']].groupby(['log', 'caseid']).cumsum()\n",
    "patt_df.drop(columns=['tmp'], inplace=True)\n",
    "patt_df['net'] = patt_df['log'].apply(lambda l: l.split('.pnml')[0].replace('log_', ''))\n",
    "prefix_df['caseid'] = prefix_df['caseid'].astype(str)\n",
    "patt_df['caseid'] = patt_df['caseid'].astype(str)"
   ]
  },
  {
   "cell_type": "markdown",
   "metadata": {},
   "source": [
    "### Merge all results together"
   ]
  },
  {
   "cell_type": "code",
   "execution_count": 7,
   "metadata": {},
   "outputs": [
    {
     "data": {
      "text/html": [
       "<div>\n",
       "<style scoped>\n",
       "    .dataframe tbody tr th:only-of-type {\n",
       "        vertical-align: middle;\n",
       "    }\n",
       "\n",
       "    .dataframe tbody tr th {\n",
       "        vertical-align: top;\n",
       "    }\n",
       "\n",
       "    .dataframe thead th {\n",
       "        text-align: right;\n",
       "    }\n",
       "</style>\n",
       "<table border=\"1\" class=\"dataframe\">\n",
       "  <thead>\n",
       "    <tr style=\"text-align: right;\">\n",
       "      <th></th>\n",
       "      <th>caseid</th>\n",
       "      <th>activity</th>\n",
       "      <th>id</th>\n",
       "      <th>conformance</th>\n",
       "      <th>completeness</th>\n",
       "      <th>confidence</th>\n",
       "      <th>log</th>\n",
       "      <th>case_length</th>\n",
       "      <th>net</th>\n",
       "    </tr>\n",
       "  </thead>\n",
       "  <tbody>\n",
       "    <tr>\n",
       "      <th>0</th>\n",
       "      <td>0</td>\n",
       "      <td>g</td>\n",
       "      <td>1.0</td>\n",
       "      <td>0.0</td>\n",
       "      <td>0.0</td>\n",
       "      <td>0.000</td>\n",
       "      <td>log_model_triangular_10_20_30_id_14.pnml_noise...</td>\n",
       "      <td>1</td>\n",
       "      <td>model_triangular_10_20_30_id_14</td>\n",
       "    </tr>\n",
       "    <tr>\n",
       "      <th>1</th>\n",
       "      <td>0</td>\n",
       "      <td>h</td>\n",
       "      <td>2.0</td>\n",
       "      <td>1.0</td>\n",
       "      <td>1.0</td>\n",
       "      <td>0.500</td>\n",
       "      <td>log_model_triangular_10_20_30_id_14.pnml_noise...</td>\n",
       "      <td>2</td>\n",
       "      <td>model_triangular_10_20_30_id_14</td>\n",
       "    </tr>\n",
       "    <tr>\n",
       "      <th>2</th>\n",
       "      <td>0</td>\n",
       "      <td>e</td>\n",
       "      <td>3.0</td>\n",
       "      <td>1.0</td>\n",
       "      <td>1.0</td>\n",
       "      <td>0.625</td>\n",
       "      <td>log_model_triangular_10_20_30_id_14.pnml_noise...</td>\n",
       "      <td>3</td>\n",
       "      <td>model_triangular_10_20_30_id_14</td>\n",
       "    </tr>\n",
       "    <tr>\n",
       "      <th>3</th>\n",
       "      <td>0</td>\n",
       "      <td>i</td>\n",
       "      <td>4.0</td>\n",
       "      <td>1.0</td>\n",
       "      <td>1.0</td>\n",
       "      <td>0.750</td>\n",
       "      <td>log_model_triangular_10_20_30_id_14.pnml_noise...</td>\n",
       "      <td>4</td>\n",
       "      <td>model_triangular_10_20_30_id_14</td>\n",
       "    </tr>\n",
       "    <tr>\n",
       "      <th>4</th>\n",
       "      <td>0</td>\n",
       "      <td>k</td>\n",
       "      <td>5.0</td>\n",
       "      <td>1.0</td>\n",
       "      <td>1.0</td>\n",
       "      <td>0.875</td>\n",
       "      <td>log_model_triangular_10_20_30_id_14.pnml_noise...</td>\n",
       "      <td>5</td>\n",
       "      <td>model_triangular_10_20_30_id_14</td>\n",
       "    </tr>\n",
       "  </tbody>\n",
       "</table>\n",
       "</div>"
      ],
      "text/plain": [
       "  caseid activity   id  conformance  completeness  confidence  \\\n",
       "0      0        g  1.0          0.0           0.0       0.000   \n",
       "1      0        h  2.0          1.0           1.0       0.500   \n",
       "2      0        e  3.0          1.0           1.0       0.625   \n",
       "3      0        i  4.0          1.0           1.0       0.750   \n",
       "4      0        k  5.0          1.0           1.0       0.875   \n",
       "\n",
       "                                                 log  case_length  \\\n",
       "0  log_model_triangular_10_20_30_id_14.pnml_noise...            1   \n",
       "1  log_model_triangular_10_20_30_id_14.pnml_noise...            2   \n",
       "2  log_model_triangular_10_20_30_id_14.pnml_noise...            3   \n",
       "3  log_model_triangular_10_20_30_id_14.pnml_noise...            4   \n",
       "4  log_model_triangular_10_20_30_id_14.pnml_noise...            5   \n",
       "\n",
       "                               net  \n",
       "0  model_triangular_10_20_30_id_14  \n",
       "1  model_triangular_10_20_30_id_14  \n",
       "2  model_triangular_10_20_30_id_14  \n",
       "3  model_triangular_10_20_30_id_14  \n",
       "4  model_triangular_10_20_30_id_14  "
      ]
     },
     "execution_count": 7,
     "metadata": {},
     "output_type": "execute_result"
    }
   ],
   "source": [
    "patt_df.head()"
   ]
  },
  {
   "cell_type": "code",
   "execution_count": 8,
   "metadata": {},
   "outputs": [
    {
     "data": {
      "text/html": [
       "<div>\n",
       "<style scoped>\n",
       "    .dataframe tbody tr th:only-of-type {\n",
       "        vertical-align: middle;\n",
       "    }\n",
       "\n",
       "    .dataframe tbody tr th {\n",
       "        vertical-align: top;\n",
       "    }\n",
       "\n",
       "    .dataframe thead th {\n",
       "        text-align: right;\n",
       "    }\n",
       "</style>\n",
       "<table border=\"1\" class=\"dataframe\">\n",
       "  <thead>\n",
       "    <tr style=\"text-align: right;\">\n",
       "      <th></th>\n",
       "      <th>caseid</th>\n",
       "      <th>case_length</th>\n",
       "      <th>log</th>\n",
       "      <th>net</th>\n",
       "      <th>Length of the alignment found</th>\n",
       "      <th>Log move cost of alignment</th>\n",
       "      <th>Model move cost of alignment</th>\n",
       "      <th>Synchronous move cost of alignment</th>\n",
       "      <th>Cost of the alignment</th>\n",
       "    </tr>\n",
       "  </thead>\n",
       "  <tbody>\n",
       "    <tr>\n",
       "      <th>0</th>\n",
       "      <td>0</td>\n",
       "      <td>1</td>\n",
       "      <td>log_model_triangular_10_20_30_id_14.pnml_noise...</td>\n",
       "      <td>model_triangular_10_20_30_id_14</td>\n",
       "      <td>1</td>\n",
       "      <td>0</td>\n",
       "      <td>0</td>\n",
       "      <td>0</td>\n",
       "      <td>0</td>\n",
       "    </tr>\n",
       "    <tr>\n",
       "      <th>1</th>\n",
       "      <td>0</td>\n",
       "      <td>2</td>\n",
       "      <td>log_model_triangular_10_20_30_id_14.pnml_noise...</td>\n",
       "      <td>model_triangular_10_20_30_id_14</td>\n",
       "      <td>2</td>\n",
       "      <td>0</td>\n",
       "      <td>0</td>\n",
       "      <td>0</td>\n",
       "      <td>0</td>\n",
       "    </tr>\n",
       "    <tr>\n",
       "      <th>2</th>\n",
       "      <td>0</td>\n",
       "      <td>3</td>\n",
       "      <td>log_model_triangular_10_20_30_id_14.pnml_noise...</td>\n",
       "      <td>model_triangular_10_20_30_id_14</td>\n",
       "      <td>3</td>\n",
       "      <td>0</td>\n",
       "      <td>0</td>\n",
       "      <td>0</td>\n",
       "      <td>0</td>\n",
       "    </tr>\n",
       "    <tr>\n",
       "      <th>3</th>\n",
       "      <td>0</td>\n",
       "      <td>4</td>\n",
       "      <td>log_model_triangular_10_20_30_id_14.pnml_noise...</td>\n",
       "      <td>model_triangular_10_20_30_id_14</td>\n",
       "      <td>5</td>\n",
       "      <td>0</td>\n",
       "      <td>0</td>\n",
       "      <td>0</td>\n",
       "      <td>0</td>\n",
       "    </tr>\n",
       "    <tr>\n",
       "      <th>4</th>\n",
       "      <td>0</td>\n",
       "      <td>5</td>\n",
       "      <td>log_model_triangular_10_20_30_id_14.pnml_noise...</td>\n",
       "      <td>model_triangular_10_20_30_id_14</td>\n",
       "      <td>6</td>\n",
       "      <td>0</td>\n",
       "      <td>0</td>\n",
       "      <td>0</td>\n",
       "      <td>0</td>\n",
       "    </tr>\n",
       "  </tbody>\n",
       "</table>\n",
       "</div>"
      ],
      "text/plain": [
       "  caseid  case_length                                                log  \\\n",
       "0      0            1  log_model_triangular_10_20_30_id_14.pnml_noise...   \n",
       "1      0            2  log_model_triangular_10_20_30_id_14.pnml_noise...   \n",
       "2      0            3  log_model_triangular_10_20_30_id_14.pnml_noise...   \n",
       "3      0            4  log_model_triangular_10_20_30_id_14.pnml_noise...   \n",
       "4      0            5  log_model_triangular_10_20_30_id_14.pnml_noise...   \n",
       "\n",
       "                               net  Length of the alignment found  \\\n",
       "0  model_triangular_10_20_30_id_14                              1   \n",
       "1  model_triangular_10_20_30_id_14                              2   \n",
       "2  model_triangular_10_20_30_id_14                              3   \n",
       "3  model_triangular_10_20_30_id_14                              5   \n",
       "4  model_triangular_10_20_30_id_14                              6   \n",
       "\n",
       "   Log move cost of alignment  Model move cost of alignment  \\\n",
       "0                           0                             0   \n",
       "1                           0                             0   \n",
       "2                           0                             0   \n",
       "3                           0                             0   \n",
       "4                           0                             0   \n",
       "\n",
       "   Synchronous move cost of alignment  Cost of the alignment  \n",
       "0                                   0                      0  \n",
       "1                                   0                      0  \n",
       "2                                   0                      0  \n",
       "3                                   0                      0  \n",
       "4                                   0                      0  "
      ]
     },
     "execution_count": 8,
     "metadata": {},
     "output_type": "execute_result"
    }
   ],
   "source": [
    "prefix_df.head()"
   ]
  },
  {
   "cell_type": "code",
   "execution_count": 9,
   "metadata": {},
   "outputs": [
    {
     "data": {
      "text/html": [
       "<div>\n",
       "<style scoped>\n",
       "    .dataframe tbody tr th:only-of-type {\n",
       "        vertical-align: middle;\n",
       "    }\n",
       "\n",
       "    .dataframe tbody tr th {\n",
       "        vertical-align: top;\n",
       "    }\n",
       "\n",
       "    .dataframe thead th {\n",
       "        text-align: right;\n",
       "    }\n",
       "</style>\n",
       "<table border=\"1\" class=\"dataframe\">\n",
       "  <thead>\n",
       "    <tr style=\"text-align: right;\">\n",
       "      <th></th>\n",
       "      <th>caseid</th>\n",
       "      <th>completeness</th>\n",
       "      <th>finalconf</th>\n",
       "      <th>net</th>\n",
       "      <th>log</th>\n",
       "      <th>case_length</th>\n",
       "      <th>injected_distance</th>\n",
       "      <th>activity</th>\n",
       "      <th>fold_no</th>\n",
       "    </tr>\n",
       "  </thead>\n",
       "  <tbody>\n",
       "    <tr>\n",
       "      <th>0</th>\n",
       "      <td>8</td>\n",
       "      <td>1.0</td>\n",
       "      <td>1.0</td>\n",
       "      <td>model_triangular_10_20_30_id_49</td>\n",
       "      <td>log_model_triangular_10_20_30_id_49.pnml_noise...</td>\n",
       "      <td>1</td>\n",
       "      <td>0</td>\n",
       "      <td>a</td>\n",
       "      <td>0</td>\n",
       "    </tr>\n",
       "    <tr>\n",
       "      <th>1</th>\n",
       "      <td>8</td>\n",
       "      <td>1.0</td>\n",
       "      <td>1.0</td>\n",
       "      <td>model_triangular_10_20_30_id_49</td>\n",
       "      <td>log_model_triangular_10_20_30_id_49.pnml_noise...</td>\n",
       "      <td>2</td>\n",
       "      <td>0</td>\n",
       "      <td>k</td>\n",
       "      <td>0</td>\n",
       "    </tr>\n",
       "    <tr>\n",
       "      <th>2</th>\n",
       "      <td>8</td>\n",
       "      <td>1.0</td>\n",
       "      <td>1.0</td>\n",
       "      <td>model_triangular_10_20_30_id_49</td>\n",
       "      <td>log_model_triangular_10_20_30_id_49.pnml_noise...</td>\n",
       "      <td>3</td>\n",
       "      <td>0</td>\n",
       "      <td>e</td>\n",
       "      <td>0</td>\n",
       "    </tr>\n",
       "    <tr>\n",
       "      <th>3</th>\n",
       "      <td>8</td>\n",
       "      <td>1.0</td>\n",
       "      <td>1.0</td>\n",
       "      <td>model_triangular_10_20_30_id_49</td>\n",
       "      <td>log_model_triangular_10_20_30_id_49.pnml_noise...</td>\n",
       "      <td>4</td>\n",
       "      <td>0</td>\n",
       "      <td>p</td>\n",
       "      <td>0</td>\n",
       "    </tr>\n",
       "    <tr>\n",
       "      <th>4</th>\n",
       "      <td>8</td>\n",
       "      <td>1.0</td>\n",
       "      <td>1.0</td>\n",
       "      <td>model_triangular_10_20_30_id_49</td>\n",
       "      <td>log_model_triangular_10_20_30_id_49.pnml_noise...</td>\n",
       "      <td>5</td>\n",
       "      <td>0</td>\n",
       "      <td>t</td>\n",
       "      <td>0</td>\n",
       "    </tr>\n",
       "  </tbody>\n",
       "</table>\n",
       "</div>"
      ],
      "text/plain": [
       "  caseid  completeness  finalconf                              net  \\\n",
       "0      8           1.0        1.0  model_triangular_10_20_30_id_49   \n",
       "1      8           1.0        1.0  model_triangular_10_20_30_id_49   \n",
       "2      8           1.0        1.0  model_triangular_10_20_30_id_49   \n",
       "3      8           1.0        1.0  model_triangular_10_20_30_id_49   \n",
       "4      8           1.0        1.0  model_triangular_10_20_30_id_49   \n",
       "\n",
       "                                                 log  case_length  \\\n",
       "0  log_model_triangular_10_20_30_id_49.pnml_noise...            1   \n",
       "1  log_model_triangular_10_20_30_id_49.pnml_noise...            2   \n",
       "2  log_model_triangular_10_20_30_id_49.pnml_noise...            3   \n",
       "3  log_model_triangular_10_20_30_id_49.pnml_noise...            4   \n",
       "4  log_model_triangular_10_20_30_id_49.pnml_noise...            5   \n",
       "\n",
       "   injected_distance activity  fold_no  \n",
       "0                  0        a        0  \n",
       "1                  0        k        0  \n",
       "2                  0        e        0  \n",
       "3                  0        p        0  \n",
       "4                  0        t        0  "
      ]
     },
     "execution_count": 9,
     "metadata": {},
     "output_type": "execute_result"
    }
   ],
   "source": [
    "hmm_test_df.head()"
   ]
  },
  {
   "cell_type": "code",
   "execution_count": 10,
   "metadata": {},
   "outputs": [
    {
     "data": {
      "text/plain": [
       "(2895560, 9)"
      ]
     },
     "execution_count": 10,
     "metadata": {},
     "output_type": "execute_result"
    }
   ],
   "source": [
    "prefix_df.shape"
   ]
  },
  {
   "cell_type": "code",
   "execution_count": 11,
   "metadata": {},
   "outputs": [
    {
     "data": {
      "text/plain": [
       "(2895560, 9)"
      ]
     },
     "execution_count": 11,
     "metadata": {},
     "output_type": "execute_result"
    }
   ],
   "source": [
    "hmm_test_df.shape"
   ]
  },
  {
   "cell_type": "code",
   "execution_count": 12,
   "metadata": {},
   "outputs": [
    {
     "data": {
      "text/plain": [
       "(2895560, 9)"
      ]
     },
     "execution_count": 12,
     "metadata": {},
     "output_type": "execute_result"
    }
   ],
   "source": [
    "patt_df.shape"
   ]
  },
  {
   "cell_type": "code",
   "execution_count": 13,
   "metadata": {},
   "outputs": [],
   "source": [
    "merged_df = pd.merge(prefix_df, patt_df, on=['log', 'caseid', 'case_length', 'net'])\n",
    "merged_df['caseid'] = merged_df['caseid'].astype(str)\n",
    "merged_df = pd.merge(merged_df, hmm_test_df, on=['log', 'caseid', 'case_length', 'net'], suffixes=('_prefix', '_hmmconf'))\n",
    "\n",
    "assert (merged_df['activity_prefix'] == merged_df['activity_hmmconf']).all()\n",
    "\n",
    "merged_df.rename(columns={'activity_prefix': 'activity'}, inplace=True)\n",
    "merged_df.drop(columns=['activity_hmmconf'], inplace=True)\n",
    "\n",
    "# add model attributes\n",
    "# NET_DIR = '../../data/BPM2018/correlation-tests/models'\n",
    "# desc_fp = os.path.join(NET_DIR, 'description.csv')\n",
    "# desc_df = pd.read_csv(desc_fp)\n",
    "# get_netid = lambda s: s.replace('model_triangular_10_20_30_id_', '').replace('.pnml', '')\n",
    "# desc_df['net_id'] = desc_df['net'].apply(get_netid)\n",
    "\n",
    "# add to merged_df\n",
    "get_netid = lambda s: s.replace('log_model_triangular_10_20_30_id_', '').split('.pnml')[0]\n",
    "merged_df['net_id'] = merged_df['log'].apply(get_netid)\n",
    "\n",
    "# merged_df = pd.merge(desc_df, merged_df, on='net_id')\n",
    "merged_df.rename(columns={\n",
    "    'Cost of the alignment': 'cost'\n",
    "}, inplace=True)"
   ]
  },
  {
   "cell_type": "code",
   "execution_count": 14,
   "metadata": {},
   "outputs": [],
   "source": [
    "mean_finalconf = merged_df.groupby(['log', 'caseid']).agg({'finalconf': np.mean}).reset_index()\n",
    "mean_finalconf.rename(columns={\n",
    "    'finalconf': 'mean_finalconf'\n",
    "}, inplace=True)\n",
    "merged_df = merged_df.merge(mean_finalconf, on=['log', 'caseid'])"
   ]
  },
  {
   "cell_type": "code",
   "execution_count": 15,
   "metadata": {},
   "outputs": [],
   "source": [
    "del patt_df\n",
    "del hmm_test_df\n",
    "del prefix_df"
   ]
  },
  {
   "cell_type": "markdown",
   "metadata": {},
   "source": [
    "### Spearman correlation with non-conforming results"
   ]
  },
  {
   "cell_type": "code",
   "execution_count": 16,
   "metadata": {},
   "outputs": [
    {
     "name": "stdout",
     "output_type": "stream",
     "text": [
      "Final conformance: spearman rho: 0.459, p-value: 0.0000000000 \n",
      "Mean conformance: spearman rho: 0.252, p-value: 0.0000000000 \n",
      "Injected distance: spearman rho: 0.665, p-value: 0.0000000000 \n",
      "Completeness: spearman rho: -0.518, p-value: 0.0000000000\n"
     ]
    }
   ],
   "source": [
    "noisy = merged_df['cost'] > 0\n",
    "case_length = merged_df['case_length'] > 0\n",
    "\n",
    "filtered_df = merged_df.loc[noisy & case_length, :]\n",
    "rho_conf = stats.spearmanr(filtered_df['cost'], filtered_df['finalconf'])\n",
    "rho_mean_conf = stats.spearmanr(filtered_df['cost'], filtered_df['mean_finalconf'])\n",
    "rho_injected_distance = stats.spearmanr(filtered_df['cost'], filtered_df['injected_distance'])\n",
    "rho_completeness = stats.spearmanr(filtered_df['cost'], filtered_df['completeness_hmmconf'])\n",
    "\n",
    "print(\n",
    "    'Final conformance: spearman rho: {:.3f}, p-value: {:.10f}'.format(rho_conf[0], rho_conf[1]),\n",
    "    '\\nMean conformance: spearman rho: {:.3f}, p-value: {:.10f}'.format(rho_mean_conf[0], rho_mean_conf[1]), \n",
    "    '\\nInjected distance: spearman rho: {:.3f}, p-value: {:.10f}'.format(rho_injected_distance[0], rho_injected_distance[1]),\n",
    "    '\\nCompleteness: spearman rho: {:.3f}, p-value: {:.10f}'.format(rho_completeness[0], rho_completeness[1])\n",
    ")"
   ]
  },
  {
   "cell_type": "code",
   "execution_count": 17,
   "metadata": {},
   "outputs": [
    {
     "name": "stderr",
     "output_type": "stream",
     "text": [
      "/home/jwllee/anaconda3/lib/python3.7/site-packages/ipykernel_launcher.py:11: SettingWithCopyWarning: \n",
      "A value is trying to be set on a copy of a slice from a DataFrame.\n",
      "Try using .loc[row_indexer,col_indexer] = value instead\n",
      "\n",
      "See the caveats in the documentation: https://pandas.pydata.org/pandas-docs/stable/user_guide/indexing.html#returning-a-view-versus-a-copy\n",
      "  # This is added back by InteractiveShellApp.init_path()\n"
     ]
    },
    {
     "data": {
      "image/png": "[encoded data removed]",
      "text/plain": [
       "<Figure size 504x432 with 1 Axes>"
      ]
     },
     "metadata": {
      "needs_background": "light"
     },
     "output_type": "display_data"
    }
   ],
   "source": [
    "noisy = merged_df['cost'] > 0\n",
    "case_length = merged_df['case_length'] >= 1\n",
    "is_net = merged_df['net_id'] != '32'\n",
    "scatter_df = merged_df.loc[noisy & case_length, :]\n",
    "\n",
    "cost_var = 'cost'\n",
    "var = 'injected_distance'\n",
    "_min = scatter_df[var].min()\n",
    "_max = scatter_df[var].max()\n",
    "bins = np.linspace(_min, _max, 30)\n",
    "scatter_df['binned'] = pd.cut(scatter_df[var], bins=bins)\n",
    "grouped = scatter_df[[cost_var, 'binned', 'caseid']].groupby([cost_var, 'binned'])\n",
    "bubble_df = grouped.count().reset_index(drop=False)\n",
    "bubble_df[var] = bubble_df['binned'].apply(lambda interval: (interval.left + interval.right) / 2)\n",
    "bubble_df.rename(columns={'caseid': 'Count'}, inplace=True)\n",
    "\n",
    "fig, ax = plt.subplots(figsize=(7, 6))\n",
    "cmap = sns.cubehelix_palette(dark=.3, light=.7, as_cmap=True)\n",
    "\n",
    "g = sns.scatterplot(x=cost_var, y=var,\n",
    "               hue='Count', size='Count',\n",
    "               sizes=(20, 200), palette=cmap,\n",
    "               data=bubble_df, ax=ax)\n",
    "\n",
    "_ = ax.set_xlabel('Cost', size=12)\n",
    "_ = ax.set_ylabel('Total injected distance', size=12)\n",
    "# _ = ax.set_title('Bubble plot of noisy non-first event instances for {}'.format(var))\n",
    "\n",
    "outdir = './images/svg/'\n",
    "if not os.path.isdir(outdir):\n",
    "    os.makedirs(outdir)\n",
    "\n",
    "out_fp = os.path.join(outdir, 'cost-injection-unconform-bubble-epsilon.svg')\n",
    "fig.savefig(out_fp, bbox_inches='tight', rasterized=True)"
   ]
  },
  {
   "cell_type": "markdown",
   "metadata": {},
   "source": [
    "### Spearman correlation with conforming results"
   ]
  },
  {
   "cell_type": "code",
   "execution_count": 18,
   "metadata": {},
   "outputs": [
    {
     "name": "stdout",
     "output_type": "stream",
     "text": [
      "Final conformance: spearman rho: -0.408, p-value: 0.0000000000 \n",
      "Mean conformance: spearman rho: -0.470, p-value: 0.0000000000 \n",
      "Injected distance: spearman rho: 0.697, p-value: 0.0000000000 \n",
      "Completeness: spearman rho: -0.713, p-value: 0.0000000000\n"
     ]
    }
   ],
   "source": [
    "noisy = merged_df['cost'] > -1\n",
    "case_length = merged_df['case_length'] > 0\n",
    "\n",
    "filtered_df = merged_df.loc[noisy & case_length, :]\n",
    "rho_conf = stats.spearmanr(filtered_df['cost'], filtered_df['finalconf'])\n",
    "rho_mean_conf = stats.spearmanr(filtered_df['cost'], filtered_df['mean_finalconf'])\n",
    "rho_injected_distance = stats.spearmanr(filtered_df['cost'], filtered_df['injected_distance'])\n",
    "rho_completeness = stats.spearmanr(filtered_df['cost'], filtered_df['completeness_hmmconf'])\n",
    "\n",
    "print(\n",
    "    'Final conformance: spearman rho: {:.3f}, p-value: {:.10f}'.format(rho_conf[0], rho_conf[1]),\n",
    "    '\\nMean conformance: spearman rho: {:.3f}, p-value: {:.10f}'.format(rho_mean_conf[0], rho_mean_conf[1]), \n",
    "    '\\nInjected distance: spearman rho: {:.3f}, p-value: {:.10f}'.format(rho_injected_distance[0], rho_injected_distance[1]),\n",
    "    '\\nCompleteness: spearman rho: {:.3f}, p-value: {:.10f}'.format(rho_completeness[0], rho_completeness[1])\n",
    ")"
   ]
  },
  {
   "cell_type": "code",
   "execution_count": 19,
   "metadata": {},
   "outputs": [
    {
     "data": {
      "image/png": "[encoded data removed]",
      "text/plain": [
       "<Figure size 504x432 with 1 Axes>"
      ]
     },
     "metadata": {
      "needs_background": "light"
     },
     "output_type": "display_data"
    }
   ],
   "source": [
    "noisy = merged_df['cost'] > -1\n",
    "case_length = merged_df['case_length'] >= 1\n",
    "is_net = merged_df['net_id'] != '32'\n",
    "scatter_df = merged_df.loc[noisy & case_length, :]\n",
    "\n",
    "cost_var = 'cost'\n",
    "var = 'injected_distance'\n",
    "_min = scatter_df[var].min()\n",
    "_max = scatter_df[var].max()\n",
    "bins = np.linspace(_min, _max, 30)\n",
    "scatter_df['binned'] = pd.cut(scatter_df[var], bins=bins)\n",
    "grouped = scatter_df[[cost_var, 'binned', 'caseid']].groupby([cost_var, 'binned'])\n",
    "bubble_df = grouped.count().reset_index(drop=False)\n",
    "bubble_df[var] = bubble_df['binned'].apply(lambda interval: (interval.left + interval.right) / 2)\n",
    "bubble_df.rename(columns={'caseid': 'Count'}, inplace=True)\n",
    "\n",
    "fig, ax = plt.subplots(figsize=(7, 6))\n",
    "cmap = sns.cubehelix_palette(dark=.3, light=.7, as_cmap=True)\n",
    "\n",
    "sns.scatterplot(x=cost_var, y=var,\n",
    "               hue='Count', size='Count',\n",
    "               sizes=(20, 200), palette=cmap,\n",
    "               data=bubble_df, ax=ax)\n",
    "\n",
    "_ = ax.set_xlabel('Cost', size=12)\n",
    "_ = ax.set_ylabel('Total injected distance', size=12)\n",
    "# _ = ax.set_title('Bubble plot of noisy non-first event instances for {}'.format(var))\n",
    "\n",
    "outdir = './images/svg/'\n",
    "if not os.path.isdir(outdir):\n",
    "    os.makedirs(outdir)\n",
    "\n",
    "out_fp = os.path.join(outdir, 'cost-injection-all-bubble-epsilon.svg')\n",
    "fig.savefig(out_fp, bbox_inches='tight', rasterized=True)"
   ]
  },
  {
   "cell_type": "code",
   "execution_count": 20,
   "metadata": {},
   "outputs": [],
   "source": [
    "del filtered_df\n",
    "del fig\n",
    "del ax"
   ]
  },
  {
   "cell_type": "markdown",
   "metadata": {},
   "source": [
    "### Confusion matrix for fitting categorization"
   ]
  },
  {
   "cell_type": "code",
   "execution_count": 21,
   "metadata": {},
   "outputs": [
    {
     "data": {
      "text/html": [
       "<div>\n",
       "<style scoped>\n",
       "    .dataframe tbody tr th:only-of-type {\n",
       "        vertical-align: middle;\n",
       "    }\n",
       "\n",
       "    .dataframe tbody tr th {\n",
       "        vertical-align: top;\n",
       "    }\n",
       "\n",
       "    .dataframe thead th {\n",
       "        text-align: right;\n",
       "    }\n",
       "</style>\n",
       "<table border=\"1\" class=\"dataframe\">\n",
       "  <thead>\n",
       "    <tr style=\"text-align: right;\">\n",
       "      <th></th>\n",
       "      <th>caseid</th>\n",
       "      <th>case_length</th>\n",
       "      <th>log</th>\n",
       "      <th>net</th>\n",
       "      <th>Length of the alignment found</th>\n",
       "      <th>Log move cost of alignment</th>\n",
       "      <th>Model move cost of alignment</th>\n",
       "      <th>Synchronous move cost of alignment</th>\n",
       "      <th>cost</th>\n",
       "      <th>activity</th>\n",
       "      <th>id</th>\n",
       "      <th>conformance</th>\n",
       "      <th>completeness_prefix</th>\n",
       "      <th>confidence</th>\n",
       "      <th>completeness_hmmconf</th>\n",
       "      <th>finalconf</th>\n",
       "      <th>injected_distance</th>\n",
       "      <th>fold_no</th>\n",
       "      <th>net_id</th>\n",
       "      <th>mean_finalconf</th>\n",
       "    </tr>\n",
       "  </thead>\n",
       "  <tbody>\n",
       "    <tr>\n",
       "      <th>0</th>\n",
       "      <td>0</td>\n",
       "      <td>1</td>\n",
       "      <td>log_model_triangular_10_20_30_id_14.pnml_noise...</td>\n",
       "      <td>model_triangular_10_20_30_id_14</td>\n",
       "      <td>1</td>\n",
       "      <td>0</td>\n",
       "      <td>0</td>\n",
       "      <td>0</td>\n",
       "      <td>0</td>\n",
       "      <td>g</td>\n",
       "      <td>1.0</td>\n",
       "      <td>0.0</td>\n",
       "      <td>0.0</td>\n",
       "      <td>0.000</td>\n",
       "      <td>1.0</td>\n",
       "      <td>1.0</td>\n",
       "      <td>0</td>\n",
       "      <td>1</td>\n",
       "      <td>14</td>\n",
       "      <td>1.0</td>\n",
       "    </tr>\n",
       "    <tr>\n",
       "      <th>1</th>\n",
       "      <td>0</td>\n",
       "      <td>2</td>\n",
       "      <td>log_model_triangular_10_20_30_id_14.pnml_noise...</td>\n",
       "      <td>model_triangular_10_20_30_id_14</td>\n",
       "      <td>2</td>\n",
       "      <td>0</td>\n",
       "      <td>0</td>\n",
       "      <td>0</td>\n",
       "      <td>0</td>\n",
       "      <td>h</td>\n",
       "      <td>2.0</td>\n",
       "      <td>1.0</td>\n",
       "      <td>1.0</td>\n",
       "      <td>0.500</td>\n",
       "      <td>1.0</td>\n",
       "      <td>1.0</td>\n",
       "      <td>0</td>\n",
       "      <td>1</td>\n",
       "      <td>14</td>\n",
       "      <td>1.0</td>\n",
       "    </tr>\n",
       "    <tr>\n",
       "      <th>2</th>\n",
       "      <td>0</td>\n",
       "      <td>3</td>\n",
       "      <td>log_model_triangular_10_20_30_id_14.pnml_noise...</td>\n",
       "      <td>model_triangular_10_20_30_id_14</td>\n",
       "      <td>3</td>\n",
       "      <td>0</td>\n",
       "      <td>0</td>\n",
       "      <td>0</td>\n",
       "      <td>0</td>\n",
       "      <td>e</td>\n",
       "      <td>3.0</td>\n",
       "      <td>1.0</td>\n",
       "      <td>1.0</td>\n",
       "      <td>0.625</td>\n",
       "      <td>1.0</td>\n",
       "      <td>1.0</td>\n",
       "      <td>0</td>\n",
       "      <td>1</td>\n",
       "      <td>14</td>\n",
       "      <td>1.0</td>\n",
       "    </tr>\n",
       "    <tr>\n",
       "      <th>3</th>\n",
       "      <td>0</td>\n",
       "      <td>4</td>\n",
       "      <td>log_model_triangular_10_20_30_id_14.pnml_noise...</td>\n",
       "      <td>model_triangular_10_20_30_id_14</td>\n",
       "      <td>5</td>\n",
       "      <td>0</td>\n",
       "      <td>0</td>\n",
       "      <td>0</td>\n",
       "      <td>0</td>\n",
       "      <td>i</td>\n",
       "      <td>4.0</td>\n",
       "      <td>1.0</td>\n",
       "      <td>1.0</td>\n",
       "      <td>0.750</td>\n",
       "      <td>1.0</td>\n",
       "      <td>1.0</td>\n",
       "      <td>0</td>\n",
       "      <td>1</td>\n",
       "      <td>14</td>\n",
       "      <td>1.0</td>\n",
       "    </tr>\n",
       "    <tr>\n",
       "      <th>4</th>\n",
       "      <td>0</td>\n",
       "      <td>5</td>\n",
       "      <td>log_model_triangular_10_20_30_id_14.pnml_noise...</td>\n",
       "      <td>model_triangular_10_20_30_id_14</td>\n",
       "      <td>6</td>\n",
       "      <td>0</td>\n",
       "      <td>0</td>\n",
       "      <td>0</td>\n",
       "      <td>0</td>\n",
       "      <td>k</td>\n",
       "      <td>5.0</td>\n",
       "      <td>1.0</td>\n",
       "      <td>1.0</td>\n",
       "      <td>0.875</td>\n",
       "      <td>1.0</td>\n",
       "      <td>1.0</td>\n",
       "      <td>0</td>\n",
       "      <td>1</td>\n",
       "      <td>14</td>\n",
       "      <td>1.0</td>\n",
       "    </tr>\n",
       "  </tbody>\n",
       "</table>\n",
       "</div>"
      ],
      "text/plain": [
       "  caseid  case_length                                                log  \\\n",
       "0      0            1  log_model_triangular_10_20_30_id_14.pnml_noise...   \n",
       "1      0            2  log_model_triangular_10_20_30_id_14.pnml_noise...   \n",
       "2      0            3  log_model_triangular_10_20_30_id_14.pnml_noise...   \n",
       "3      0            4  log_model_triangular_10_20_30_id_14.pnml_noise...   \n",
       "4      0            5  log_model_triangular_10_20_30_id_14.pnml_noise...   \n",
       "\n",
       "                               net  Length of the alignment found  \\\n",
       "0  model_triangular_10_20_30_id_14                              1   \n",
       "1  model_triangular_10_20_30_id_14                              2   \n",
       "2  model_triangular_10_20_30_id_14                              3   \n",
       "3  model_triangular_10_20_30_id_14                              5   \n",
       "4  model_triangular_10_20_30_id_14                              6   \n",
       "\n",
       "   Log move cost of alignment  Model move cost of alignment  \\\n",
       "0                           0                             0   \n",
       "1                           0                             0   \n",
       "2                           0                             0   \n",
       "3                           0                             0   \n",
       "4                           0                             0   \n",
       "\n",
       "   Synchronous move cost of alignment  cost activity   id  conformance  \\\n",
       "0                                   0     0        g  1.0          0.0   \n",
       "1                                   0     0        h  2.0          1.0   \n",
       "2                                   0     0        e  3.0          1.0   \n",
       "3                                   0     0        i  4.0          1.0   \n",
       "4                                   0     0        k  5.0          1.0   \n",
       "\n",
       "   completeness_prefix  confidence  completeness_hmmconf  finalconf  \\\n",
       "0                  0.0       0.000                   1.0        1.0   \n",
       "1                  1.0       0.500                   1.0        1.0   \n",
       "2                  1.0       0.625                   1.0        1.0   \n",
       "3                  1.0       0.750                   1.0        1.0   \n",
       "4                  1.0       0.875                   1.0        1.0   \n",
       "\n",
       "   injected_distance  fold_no net_id  mean_finalconf  \n",
       "0                  0        1     14             1.0  \n",
       "1                  0        1     14             1.0  \n",
       "2                  0        1     14             1.0  \n",
       "3                  0        1     14             1.0  \n",
       "4                  0        1     14             1.0  "
      ]
     },
     "execution_count": 21,
     "metadata": {},
     "output_type": "execute_result"
    }
   ],
   "source": [
    "merged_df.head()"
   ]
  },
  {
   "cell_type": "code",
   "execution_count": 22,
   "metadata": {},
   "outputs": [
    {
     "name": "stdout",
     "output_type": "stream",
     "text": [
      "Confusion matrix: \n",
      "[[ 450768   17789]\n",
      " [ 333087 2093916]]\n",
      "Precision: 0.99158, Recall: 0.86276, F1: 0.92269\n",
      "Total negatives: 468557, Total positives: 2427003, Predicted negatives: 783855, Predicted positives: 2111705\n"
     ]
    }
   ],
   "source": [
    "y_true = merged_df['cost'] == 0\n",
    "y_pred = (merged_df['finalconf'] > 0.99) & (merged_df['injected_distance'] == 0)\n",
    "\n",
    "from sklearn.metrics import confusion_matrix\n",
    "\n",
    "cnf_mat = confusion_matrix(y_true, y_pred)\n",
    "precision = cnf_mat[1, 1] / cnf_mat[:, 1].sum()\n",
    "recall = cnf_mat[1, 1] / cnf_mat[1, :].sum()\n",
    "f1 = 2 * ((precision * recall) / (precision + recall))\n",
    "\n",
    "print('Confusion matrix: \\n{}\\nPrecision: {:.5f}, Recall: {:.5f}, F1: {:.5f}'.format(cnf_mat, precision, recall, f1))\n",
    "print('Total negatives: {}, Total positives: {}, Predicted negatives: {}, Predicted positives: {}'.format(cnf_mat[0, :].sum(), cnf_mat[1, :].sum(), \n",
    "                                                                                                       cnf_mat[:, 0].sum(), cnf_mat[:, 1].sum()))\n"
   ]
  },
  {
   "cell_type": "markdown",
   "metadata": {},
   "source": [
    "### Confusion matrix for pattern based"
   ]
  },
  {
   "cell_type": "code",
   "execution_count": 23,
   "metadata": {},
   "outputs": [],
   "source": [
    "second_event_df = merged_df.loc[\n",
    "    (merged_df['case_length'] > 1), :\n",
    "]\n",
    "\n",
    "second_last_event_df = second_event_df.groupby(['caseid', 'log', 'net']).tail(1).reset_index(drop=True)"
   ]
  },
  {
   "cell_type": "code",
   "execution_count": 24,
   "metadata": {},
   "outputs": [
    {
     "data": {
      "text/plain": [
       "225611"
      ]
     },
     "execution_count": 24,
     "metadata": {},
     "output_type": "execute_result"
    }
   ],
   "source": [
    "fitting_case_df = second_event_df.loc[\n",
    "    (second_event_df)['cost'] == 0, :\n",
    "]\n",
    "fitting_cases = (fitting_case_df['caseid'] + fitting_case_df['log']).unique()\n",
    "fitting_cases.shape[0]"
   ]
  },
  {
   "cell_type": "code",
   "execution_count": 25,
   "metadata": {},
   "outputs": [
    {
     "data": {
      "text/plain": [
       "0.25368443914525446"
      ]
     },
     "execution_count": 25,
     "metadata": {},
     "output_type": "execute_result"
    }
   ],
   "source": [
    "57234/225611"
   ]
  },
  {
   "cell_type": "code",
   "execution_count": 26,
   "metadata": {},
   "outputs": [
    {
     "data": {
      "text/plain": [
       "47595"
      ]
     },
     "execution_count": 26,
     "metadata": {},
     "output_type": "execute_result"
    }
   ],
   "source": [
    "false_negs = second_last_event_df.loc[\n",
    "    (second_last_event_df['cost'] == 0) & # perfectly fitting\n",
    "    ((second_last_event_df['finalconf'] <= 0.99) | (second_last_event_df['injected_distance'] > 0)) # not conforming according to HMMConf\n",
    "]\n",
    "false_neg_cases = (false_negs['caseid'] + '-' + false_negs['log']).unique()\n",
    "false_neg_cases.shape[0]"
   ]
  },
  {
   "cell_type": "code",
   "execution_count": 27,
   "metadata": {},
   "outputs": [],
   "source": [
    "merged_df.loc[\n",
    "    (merged_df['cost'] == 0) & # perfectly fitting\n",
    "    (merged_df['case_length'] == 1),\n",
    "    'conformance'\n",
    "] = 1.\n",
    "merged_df.loc[\n",
    "    (merged_df['cost'] == 0) & # perfectly fitting\n",
    "    (merged_df['case_length'] == 1),\n",
    "    'completeness_prefix'\n",
    "] = 1."
   ]
  },
  {
   "cell_type": "code",
   "execution_count": 28,
   "metadata": {},
   "outputs": [],
   "source": [
    "last_event_df = merged_df.groupby(['caseid', 'log', 'net']).tail(1).reset_index(drop=True)"
   ]
  },
  {
   "cell_type": "code",
   "execution_count": 31,
   "metadata": {},
   "outputs": [
    {
     "data": {
      "text/plain": [
       "(121511, 20)"
      ]
     },
     "execution_count": 31,
     "metadata": {},
     "output_type": "execute_result"
    }
   ],
   "source": [
    "false_neg_df = merged_df.loc[\n",
    "    (merged_df['cost'] == 0) & # perfectly fitting alignments\n",
    "    ~((merged_df['finalconf'] > 0.99) & (merged_df['injected_distance'] == 0)) & # not conforming according to HMMConf\n",
    "    # (merged_df['case_length'] < merged_df['Length of the alignment found']) & \n",
    "    (merged_df['net'].str.endswith('_32'))\n",
    "    , :\n",
    "]\n",
    "false_neg_df.shape\n",
    "# get the first event that HMMConf got wrong\n",
    "# first_false_neg_df = false_neg_df.groupby(['net', 'log', 'caseid']).head(1)\n",
    "# first_false_neg_df.head()"
   ]
  },
  {
   "cell_type": "code",
   "execution_count": 32,
   "metadata": {},
   "outputs": [
    {
     "data": {
      "text/plain": [
       "333356"
      ]
     },
     "execution_count": 32,
     "metadata": {},
     "output_type": "execute_result"
    }
   ],
   "source": [
    "44028 + 69231 + 910 + 51231 + 203 + 45973 + 121780"
   ]
  },
  {
   "cell_type": "code",
   "execution_count": 33,
   "metadata": {},
   "outputs": [
    {
     "data": {
      "text/plain": [
       "52762"
      ]
     },
     "execution_count": 33,
     "metadata": {},
     "output_type": "execute_result"
    }
   ],
   "source": [
    "9165 + 910 + 18348 + 122 + 5866 + 18351"
   ]
  },
  {
   "cell_type": "code",
   "execution_count": 34,
   "metadata": {},
   "outputs": [
    {
     "name": "stdout",
     "output_type": "stream",
     "text": [
      "Confusion matrix: \n",
      "[[2093916  333087]\n",
      " [  17789  450768]]\n",
      "Precision: 0.57507, Recall: 0.96203, F1: 0.71984, Accuracy: 0.87882\n",
      "Total negatives: 2427003, Total positives: 468557, Predicted negatives: 2111705, Predicted positives: 783855\n"
     ]
    }
   ],
   "source": [
    "y_true = merged_df['cost'] > 0\n",
    "y_pred = ~((merged_df['finalconf'] > 0.99) & (merged_df['injected_distance'] == 0))\n",
    "\n",
    "from sklearn.metrics import confusion_matrix\n",
    "\n",
    "cnf_mat = confusion_matrix(y_true, y_pred)\n",
    "precision = cnf_mat[1, 1] / cnf_mat[:, 1].sum()\n",
    "recall = cnf_mat[1, 1] / cnf_mat[1, :].sum()\n",
    "f1 = 2 * ((precision * recall) / (precision + recall))\n",
    "tp = cnf_mat[1, 1].sum()\n",
    "tn = cnf_mat[0, 0].sum()\n",
    "n_predictions = cnf_mat.sum()\n",
    "accuracy = (tp + tn) / n_predictions\n",
    "\n",
    "print('Confusion matrix: \\n{}\\nPrecision: {:.5f}, Recall: {:.5f}, F1: {:.5f}, Accuracy: {:.5f}'.format(cnf_mat, precision, recall, f1, accuracy))\n",
    "print('Total negatives: {}, Total positives: {}, Predicted negatives: {}, Predicted positives: {}'.format(cnf_mat[0, :].sum(), cnf_mat[1, :].sum(), \n",
    "                                                                                                       cnf_mat[:, 0].sum(), cnf_mat[:, 1].sum()))"
   ]
  },
  {
   "cell_type": "code",
   "execution_count": 35,
   "metadata": {},
   "outputs": [
    {
     "name": "stdout",
     "output_type": "stream",
     "text": [
      "Confusion matrix: \n",
      "[[230231      0]\n",
      " [ 28546  28148]]\n",
      "Precision: 1.00000, Recall: 0.49649, F1: 0.66354, Accuracy: 0.90051\n",
      "Total negatives: 230231, Total positives: 56694, Predicted negatives: 258777, Predicted positives: 28148\n"
     ]
    }
   ],
   "source": [
    "y_true = last_event_df['cost'] > 0\n",
    "y_pred = list(map(lambda t: any(t), zip(last_event_df['conformance'] < 1, last_event_df['completeness_prefix'] < 1)))\n",
    "from sklearn.metrics import confusion_matrix\n",
    "\n",
    "cnf_mat = confusion_matrix(y_true, y_pred)\n",
    "precision = cnf_mat[1, 1] / cnf_mat[:, 1].sum()\n",
    "recall = cnf_mat[1, 1] / cnf_mat[1, :].sum()\n",
    "f1 = 2 * ((precision * recall) / (precision + recall))\n",
    "tp = cnf_mat[1, 1].sum()\n",
    "tn = cnf_mat[0, 0].sum()\n",
    "n_predictions = cnf_mat.sum()\n",
    "accuracy = (tp + tn) / n_predictions\n",
    "\n",
    "print('Confusion matrix: \\n{}\\nPrecision: {:.5f}, Recall: {:.5f}, F1: {:.5f}, Accuracy: {:.5f}'.format(cnf_mat, precision, recall, f1, accuracy))\n",
    "print('Total negatives: {}, Total positives: {}, Predicted negatives: {}, Predicted positives: {}'.format(cnf_mat[0, :].sum(), cnf_mat[1, :].sum(), \n",
    "                                                                                                       cnf_mat[:, 0].sum(), cnf_mat[:, 1].sum()))"
   ]
  },
  {
   "cell_type": "markdown",
   "metadata": {},
   "source": [
    "### Dummy classifier as baseline"
   ]
  },
  {
   "cell_type": "code",
   "execution_count": 115,
   "metadata": {},
   "outputs": [
    {
     "name": "stdout",
     "output_type": "stream",
     "text": [
      "F1 score: 0.195 +- 0.003\n",
      "Precision: 0.195 +- 0.003\n",
      "Recall: 0.195 +- 0.003\n"
     ]
    }
   ],
   "source": [
    "from sklearn.dummy import DummyClassifier\n",
    "from sklearn.model_selection import cross_val_score\n",
    "\n",
    "X = last_event_df['log'].map(str) + '-' + last_event_df['caseid']\n",
    "y = last_event_df['cost'] > 0\n",
    "\n",
    "clf = DummyClassifier(strategy='stratified', random_state=123)\n",
    "\n",
    "f1_scores = cross_val_score(clf, X, y, cv=5, scoring='f1')\n",
    "precision_scores = cross_val_score(clf, X, y, cv=5, scoring='precision')\n",
    "recall_scores = cross_val_score(clf, X, y, cv=5, scoring='recall')\n",
    "\n",
    "print('F1 score: {:.3f} +- {:.3f}'.format(np.mean(f1_scores), np.std(f1_scores)))\n",
    "print('Precision: {:.3f} +- {:.3f}'.format(np.mean(precision_scores), np.std(precision_scores)))\n",
    "print('Recall: {:.3f} +- {:.3f}'.format(np.mean(recall_scores), np.std(recall_scores)))"
   ]
  },
  {
   "cell_type": "code",
   "execution_count": null,
   "metadata": {},
   "outputs": [],
   "source": []
  }
 ],
 "metadata": {
  "kernelspec": {
   "display_name": "mineral",
   "language": "python",
   "name": "mineral"
  },
  "language_info": {
   "codemirror_mode": {
    "name": "ipython",
    "version": 3
   },
   "file_extension": ".py",
   "mimetype": "text/x-python",
   "name": "python",
   "nbconvert_exporter": "python",
   "pygments_lexer": "ipython3",
   "version": "3.7.7"
  }
 },
 "nbformat": 4,
 "nbformat_minor": 4
}
